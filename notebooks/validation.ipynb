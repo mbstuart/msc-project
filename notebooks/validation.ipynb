{
 "metadata": {
  "language_info": {
   "codemirror_mode": {
    "name": "ipython",
    "version": 3
   },
   "file_extension": ".py",
   "mimetype": "text/x-python",
   "name": "python",
   "nbconvert_exporter": "python",
   "pygments_lexer": "ipython3",
   "version": "3.7.5-final"
  },
  "orig_nbformat": 2,
  "kernelspec": {
   "name": "Python 3.7.5 64-bit ('base': conda)",
   "display_name": "Python 3.7.5 64-bit ('base': conda)",
   "metadata": {
    "interpreter": {
     "hash": "00c13f55ba049f4e591e16c55112044268b965477979f20629110d152507d31b"
    }
   }
  }
 },
 "nbformat": 4,
 "nbformat_minor": 2,
 "cells": [
  {
   "cell_type": "code",
   "execution_count": 1,
   "metadata": {},
   "outputs": [],
   "source": [
    "import path\n",
    "with path.Path('..'):\n",
    "    from services.theme_extractor.preprocessing import ArticlePreprocessJob, ArticlePreprocessor \n",
    "\n",
    "    from services.theme_extractor.wv_model import  WVModelBuilder\n",
    "\n",
    "    from services.theme_extractor.clustering import Clusterer\n",
    "\n",
    "    from services.theme_extractor.keyword_extraction import KeywordExtractor, KeywordExtractionJob, JointArticle\n",
    "\n",
    "    from services.libs.data_model import ProcessedArticle, Theme, Article"
   ]
  },
  {
   "cell_type": "code",
   "execution_count": 2,
   "metadata": {
    "tags": []
   },
   "outputs": [
    {
     "output_type": "stream",
     "name": "stdout",
     "text": "467130b3-fe75-4f1f-b2fa-4757e15f11fd\n"
    }
   ],
   "source": [
    "kej = KeywordExtractionJob()\n",
    "\n",
    "load_id = kej.get_latest_article_load().id\n",
    "\n",
    "print(load_id)\n",
    "\n",
    "articles, mapping = kej.get_articles_for_load_id(load_id)"
   ]
  },
  {
   "cell_type": "code",
   "execution_count": 3,
   "metadata": {},
   "outputs": [],
   "source": [
    "from sqlalchemy import desc\n",
    "session = kej.get_session()\n",
    "raw_articles = session.query(Article).filter(Article.article_load_id == load_id).order_by(desc(Article.publish_date)).all()"
   ]
  },
  {
   "cell_type": "code",
   "execution_count": 4,
   "metadata": {},
   "outputs": [],
   "source": [
    "\n",
    "raw_articles = raw_articles[:len(articles)]\n",
    "all_tags = sum([art.source_tags for art in raw_articles] ,[])"
   ]
  },
  {
   "cell_type": "code",
   "execution_count": 5,
   "metadata": {},
   "outputs": [],
   "source": [
    "from collections import Counter    \n",
    "\n",
    "themes = Counter(all_tags)"
   ]
  },
  {
   "cell_type": "code",
   "execution_count": 6,
   "metadata": {},
   "outputs": [],
   "source": [
    "theme_map = {}\n",
    "for art in raw_articles:\n",
    "    scores = [themes[tag] for tag in art.source_tags if themes[tag]]\n",
    "    if len(scores) > 0:\n",
    "        i = scores.index(min(scores))\n",
    "        theme_map[art.id] = art.source_tags[i]\n",
    "    else:\n",
    "        theme_map[art.id] = 'unclassified'"
   ]
  },
  {
   "cell_type": "code",
   "execution_count": 8,
   "metadata": {
    "tags": []
   },
   "outputs": [
    {
     "output_type": "stream",
     "name": "stdout",
     "text": "50000\nAMI: 0.35\nRamd: 0.35\n"
    }
   ],
   "source": [
    "from sklearn.metrics import adjusted_rand_score, adjusted_mutual_info_score\n",
    "import numpy as np\n",
    "\n",
    "g_tags = [theme_map[art.id] for art in articles]\n",
    "\n",
    "classified=  np.array(mapping) != -1\n",
    "\n",
    "\n",
    "\n",
    "\n",
    "ami = adjusted_mutual_info_score(np.array(g_tags)[classified], np.array(mapping)[classified])\n",
    "rand = adjusted_rand_score(np.array(g_tags)[classified], np.array(mapping)[classified])\n"
   ]
  },
  {
   "cell_type": "code",
   "execution_count": 9,
   "metadata": {
    "tags": []
   },
   "outputs": [
    {
     "output_type": "stream",
     "name": "stdout",
     "text": "AMI: 0.35\nRamd: 0.07\n"
    }
   ],
   "source": [
    "\n",
    "print('AMI: {0:.2f}'.format(ami))\n",
    "print('Ramd: {0:.2f}'.format(rand))"
   ]
  },
  {
   "cell_type": "code",
   "execution_count": 10,
   "metadata": {
    "tags": []
   },
   "outputs": [
    {
     "output_type": "stream",
     "name": "stdout",
     "text": "world/world\nsport/cycling,sport/lizzie-armitstead,sport/sport\nlaw/us-supreme-court,law/us-constitution-and-civil-liberties,law/law-us,us-news/us-news,us-news/us-politics,us-news/donaldtrump,us-news/trump-administration,us-news/ruth-bader-ginsberg,us-news/us-elections-2020,us-news/republicans,us-news/democrats,us-news/us-senate,us-news/us-congress,world/world,us-news/healthcare,world/lgbt-rights,world/abortion,us-news/usdomesticpolicy\nmedia/women-in-journalism,us-news/trump-administration,us-news/donaldtrump,lifeandstyle/women,us-news/us-news\nmedia/charlie-hebdo,world/charlie-hebdo-attack,world/paris,world/france,world/europe-news,media/pressandpublishing,media/media,world/islam,world/world,world/religion\nworld/coronavirus-outbreak,technology/apps,politics/health,technology/technology,uk/uk,society/health,society/nhs,politics/pfi\nsport/horse-racing,sport/sport,sport/horse-racing-tips\neducation/higher-education,uk/scotland,uk/glasgow,uk/uk,politics/nicola-sturgeon,politics/politics,education/universities,education/education,world/coronavirus-outbreak\nus-news/massachusetts,us-news/us-news,world/coronavirus-outbreak,world/world\nworld/coronavirus-outbreak,politics/health,uk/wales,uk/leeds,uk/uk,society/health,politics/politics,uk/cardiff\n"
    }
   ],
   "source": [
    "for art in raw_articles[:10]:\n",
    "    print(\", \".join(art.source_tags))"
   ]
  },
  {
   "cell_type": "code",
   "execution_count": null,
   "metadata": {},
   "outputs": [],
   "source": []
  }
 ]
}