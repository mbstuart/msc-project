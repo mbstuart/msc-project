{
 "metadata": {
  "language_info": {
   "codemirror_mode": {
    "name": "ipython",
    "version": 3
   },
   "file_extension": ".py",
   "mimetype": "text/x-python",
   "name": "python",
   "nbconvert_exporter": "python",
   "pygments_lexer": "ipython3",
   "version": "3.7.5-final"
  },
  "orig_nbformat": 2,
  "kernelspec": {
   "name": "Python 3.7.5 64-bit ('base': conda)",
   "display_name": "Python 3.7.5 64-bit ('base': conda)",
   "metadata": {
    "interpreter": {
     "hash": "00c13f55ba049f4e591e16c55112044268b965477979f20629110d152507d31b"
    }
   }
  }
 },
 "nbformat": 4,
 "nbformat_minor": 2,
 "cells": [
  {
   "cell_type": "code",
   "execution_count": 1,
   "metadata": {},
   "outputs": [],
   "source": [
    "import path\n",
    "with path.Path('..'):\n",
    "    from services.theme_extractor.preprocessing import ArticlePreprocessJob, ArticlePreprocessor \n",
    "\n",
    "    from services.theme_extractor.wv_model import  WVModelBuilder\n",
    "\n",
    "    from services.theme_extractor.clustering import Clusterer\n",
    "\n",
    "    from services.theme_extractor.keyword_extraction import KeywordExtractor\n",
    "\n",
    "    from services.libs.data_model import ProcessedArticle, Theme"
   ]
  },
  {
   "cell_type": "code",
   "execution_count": 2,
   "metadata": {
    "tags": []
   },
   "outputs": [
    {
     "output_type": "stream",
     "name": "stdout",
     "text": "467130b3-fe75-4f1f-b2fa-4757e15f11fd\n"
    }
   ],
   "source": [
    "\n",
    "apj = ArticlePreprocessJob()\n",
    "\n",
    "load_id = apj.get_latest_article_load().id\n",
    "print(load_id)"
   ]
  },
  {
   "cell_type": "code",
   "execution_count": 3,
   "metadata": {},
   "outputs": [
    {
     "output_type": "execute_result",
     "data": {
      "text/plain": "10000"
     },
     "metadata": {},
     "execution_count": 3
    }
   ],
   "source": [
    "articles = apj.get_articles_for_load(load_id, max_articles=10000)\n",
    "len(articles)"
   ]
  },
  {
   "cell_type": "code",
   "execution_count": 4,
   "metadata": {},
   "outputs": [],
   "source": [
    "from typing import List\n",
    "from gensim.models import Doc2Vec\n",
    "import numpy as np\n",
    "\n",
    "class APRun:\n",
    "\n",
    "    processed_articles: List[ProcessedArticle]\n",
    "\n",
    "    model: Doc2Vec\n",
    "\n",
    "    labels: np.array\n",
    "\n",
    "    clusters: List[Theme]\n",
    "\n",
    "    name: str\n",
    "\n",
    "    def __init__(self, name, steps=['lemmatize', 'postag', 'phrasing'], postags=['NOUN', 'ADJ', 'VERB', 'ADV', 'PROPN']):\n",
    "        self.name = name\n",
    "        self.steps = steps;\n",
    "        self.postags = postags;\n",
    "        # self.processed_articles = processed_articles\n",
    "        # self.model = model\n",
    "        # self.labels = labels\n",
    "        # self.clusters = clusters\n",
    "\n",
    "    "
   ]
  },
  {
   "cell_type": "code",
   "execution_count": 5,
   "metadata": {
    "tags": []
   },
   "outputs": [
    {
     "output_type": "stream",
     "name": "stdout",
     "text": "Extracting keywords for 807 themes\nExtracting keywords for 797 themes\nExtracting keywords for 810 themes\nExtracting keywords for 815 themes\nExtracting keywords for 833 themes\n"
    }
   ],
   "source": [
    "def run_ap_options(run_options: APRun):\n",
    "\n",
    "    load_id = run_options.name\n",
    "\n",
    "    ap = ArticlePreprocessor(steps=run_options.steps, allowed_postags=run_options.postags)\n",
    "    processed_articles = ap.preprocess_articles(articles, load_id)\n",
    "\n",
    "    model_builder = WVModelBuilder()\n",
    "\n",
    "    model = model_builder.build_wv_model(processed_articles)\n",
    "\n",
    "    labels = Clusterer(model, processed_articles, load_id).create_mapping(min_cluster_size=3, cluster_selection_epsilon=0.1)\n",
    "    \n",
    "    clusters = KeywordExtractor(model).create_themes(load_id, processed_articles, labels)\n",
    "\n",
    "    return processed_articles, model, labels, clusters\n",
    "\n",
    "def calculate_runs():\n",
    "\n",
    "    runs: List[APRun] = [\n",
    "        APRun('run_with_all'),\n",
    "        APRun('run_with_none', steps=[]),\n",
    "        APRun('run_with_no_phrasing', steps=['postag', 'lemmatize']),\n",
    "        APRun('run_with_no_lemmatize', steps=['postag', 'phrasing']),\n",
    "        APRun('run_with_no_postag', steps=['lemmatize', 'phrasing'])\n",
    "\n",
    "    ]\n",
    "\n",
    "    for run in runs:\n",
    "        processed_articles, model, labels, clusters = run_ap_options(run);\n",
    "        run.processed_articles = processed_articles\n",
    "        run.model = model\n",
    "        run.labels = labels\n",
    "        run.clusters = clusters\n",
    " \n",
    "    return runs\n",
    "    \n",
    "ap_runs = calculate_runs()"
   ]
  },
  {
   "cell_type": "code",
   "execution_count": 6,
   "metadata": {
    "tags": []
   },
   "outputs": [
    {
     "output_type": "stream",
     "name": "stdout",
     "text": "0\nnew coronavirus case fall low level\n13\n[&#39;volatile former ambassador warn&#39;, &#39;british musical&#39;, &#39;former ambassador&#39;, &#39;ambassador warn&#39;, &#39;volatile former ambassador&#39;, &#39;tory rebellion&#39;, &#39;death toll exceed&#39;, &#39;long await oversight board&#39;, &#39;face big&#39;]\n13\nfile bankruptcy\n5\n[&#39;England Wales MPs urge&#39;, &#39;test positive coronaviru&#39;, &#39;dfid merger&#39;, &#39;polo shirt&#39;, &#39;visit ban&#39;, &#39;jogger polo shirt&#39;, &#39;couple test positive coronaviru&#39;, &#39;Berlin couple test positive coronaviru&#39;, &#39;reputation dfid&#39;]\n20\nreport record week\n9\n[&#39;will consider strike action&#39;, &#39;consider strike action&#39;, &#39;postal chief oust&#39;, &#39;chief oust brother&#39;, &#39;boost eat help&#39;, &#39;postal chief oust brother&#39;, &#39;publisher hit back&#39;, &#39;back office plan&#39;, &#39;court file&#39;]\n499\nbotched ecce homo\n3\n[&#39;institute say restoration&#39;, &#39;humanoid restoration&#39;, &#39;shock reveal depiction&#39;, &#39;vividness richness&#39;, &#39;say restoration&#39;, &#39;homo also know&#39;, &#39;wanton institutional vandalism preet&#39;, &#39;nightmarish other&#39;, &#39;christ sheep paint&#39;]\n599\npollutant diesel\n3\n[&#39;sydney suburb moorebank bankstown&#39;, &#39;norton liverpool lidcombe&#39;, &#39;lithium ion&#39;, &#39;sydney suburb moorebank&#39;, &#39;rooftop bar grill&#39;, &#39;driver also&#39;, &#39;bring total cost low energy&#39;, &#39;area casey&#39;, &#39;such tesla&#39;]\n"
    }
   ],
   "source": [
    "from collections import Counter\n",
    "\n",
    "counts = Counter(ap_runs[0].labels)\n",
    "\n",
    "for i in [1, 14, 21, 500, 600]:\n",
    "    cluster = ap_runs[0].clusters[i]\n",
    "    print(cluster.id)\n",
    "    print(cluster.name)\n",
    "    print(counts[cluster.id])\n",
    "    print(cluster.theme_words)"
   ]
  },
  {
   "cell_type": "code",
   "execution_count": 7,
   "metadata": {},
   "outputs": [],
   "source": [
    "def jaccard(set1: np.array, set2: np.array):\n",
    "    return len(np.intersect1d(set1, set2)) / len(np.union1d(set1, set2))"
   ]
  },
  {
   "cell_type": "code",
   "execution_count": 8,
   "metadata": {},
   "outputs": [],
   "source": [
    "class ThemeTarget:\n",
    "\n",
    "    def __init__(self, label: int, name: str):\n",
    "        self.label = label\n",
    "        self.name = name"
   ]
  },
  {
   "cell_type": "code",
   "execution_count": 9,
   "metadata": {},
   "outputs": [],
   "source": [
    "import pandas as pd\n",
    "from IPython.display import display, HTML\n",
    "\n",
    "targets: List[ThemeTarget] = [\n",
    "    ThemeTarget(0, 'Grenfell'),\n",
    "    ThemeTarget(13, 'Coronavirus students'),\n",
    "    ThemeTarget(20, 'Shoes'),\n",
    "    ThemeTarget(399, 'Suleimani'),\n",
    "    ThemeTarget(599, 'Labour Manifesto'),\n",
    "]\n",
    "\n"
   ]
  },
  {
   "cell_type": "code",
   "execution_count": 11,
   "metadata": {
    "tags": []
   },
   "outputs": [
    {
     "output_type": "stream",
     "name": "stdout",
     "text": "0 is a match!\n171 is a match!\n314 is a match!\n320 is a match!\n582 is a match!\n"
    }
   ],
   "source": [
    "## find targets which match\n",
    "\n",
    "def jacc_match(base_articles, mapping_articles_idx):\n",
    "    clusters = []\n",
    "    for i, run in enumerate(ap_runs):\n",
    "        cluster_match = Counter(run.labels[mapping_articles_idx]).most_common();\n",
    "        main_cluster = cluster_match[0][0]\n",
    "\n",
    "\n",
    "        theme_articles = [a.id for a in np.array(articles)[np.where(run.labels == main_cluster)]]\n",
    "        clusters.append(main_cluster)\n",
    "        if jaccard(theme_articles, base_articles) < 1:\n",
    "            return False\n",
    "    return clusters\n",
    "\n",
    "matching_labels = []\n",
    "\n",
    "for label_id in range(0, max(ap_runs[0].labels)):\n",
    "    mapping = ap_runs[0].labels\n",
    "    mapping_articles_idx = np.where(mapping == label_id)\n",
    "    base_articles = [a.id for a in np.array(articles)[mapping_articles_idx]]\n",
    "\n",
    "    match = jacc_match(base_articles, mapping_articles_idx)\n",
    "\n",
    "    if match:\n",
    "        print(\"{} is a match!\".format(\", \".join(match)))\n",
    "        matching_labels.append(match)\n",
    "            "
   ]
  },
  {
   "cell_type": "code",
   "execution_count": 20,
   "metadata": {
    "tags": []
   },
   "outputs": [
    {
     "output_type": "stream",
     "name": "stdout",
     "text": "British musicals &#39;at risk without subsidies like other theatre&#39;\nFacebook&#39;s long-awaited oversight board to launch before US election\nUK repatriates child orphaned in Syria after Isis collapse\nAlex Salmond known for &#39;bullying&#39; behaviour, says Scotland&#39;s ex-chief civil servant\n‘The US feels very volatile’: former ambassador warns of election violence\nTory rebellion widens over Boris Johnson&#39;s bill to override Brexit deal\nVictoria&#39;s new coronavirus cases fall to lowest level since June as Australian death toll exceeds 800\nArsenal place trust in Mikel Arteta with promotion to first-team manager\nVictoria&#39;s roadmap out of Covid lockdown is &#39;a sledgehammer approach&#39;, expert says\nAll of UK facing &#39;big burden&#39; to prevent second Covid wave, warns minister\n\n\n&#39;Hail, gallant woman&#39;: Amy Dorris praised for coming forward with Trump assault allegation\nWhich countries can UK holidaymakers visit without restrictions?\nHeckling of London mayor Sadiq Khan during protest condemned\nNew Zealand election TV debate: fears inclusion of fringe party may &#39;legitimise conspiracy theories&#39;\nFirst Thing: vice-presidential candidates launch campaign season in Wisconsin\nLewis Hamilton to enter his own team in new Extreme E all-electric racing series\nBrexit: Boris Johnson faces Eurotunnel test\nBoris Johnson defends Covid-19 quarantine for Spain returners\n\n\nLewis Hamilton says pursuing the 2020 F1 title has been a &#39;lonely journey&#39;\nWigan&#39;s former owner Kay asked about administration before his takeover\n&#39;Eat out&#39; scheme muddles Covid messaging, says Leicester health chief\nFacebook struggled to remove sensitive content under Covid lockdown\n&#39;He&#39;s off my Christmas card list&#39;: Stuart Broad fined £2,000 by father\n\n\nChampionship: West Brom suffer promotion blow at Blackburn\nNeil Young says Trump&#39;s use of songs at Mount Rushmore &#39;not OK with me&#39;\nDover clifftops &#39;buzzing with wildlife&#39; after National Trust takeover\n\n\nDan Tehan forced to correct &#39;sloppy or mischievous&#39; error in university statistics\nMet closes inquiry into Alex Salmond with no further action\nSuspended AfD politician&#39;s &#39;friendly&#39; punch put colleague in hospital\nSimona Halep becomes latest top-10 player to pull out of US Open\nWhat can we do now Covid-19 restrictions are being eased in England?\n\n\n"
    }
   ],
   "source": [
    "for label_id in matching_labels:\n",
    "    mapping_articles_idx = np.where(ap_runs[0].labels == label_id)\n",
    "    base_articles = [a.title for a in np.array(articles)[mapping_articles_idx]]\n",
    "    print(\"\\n\".join([art for i, art in enumerate(base_articles) if i < 10]))\n",
    "    print(\"\\n\")"
   ]
  },
  {
   "cell_type": "code",
   "execution_count": null,
   "metadata": {},
   "outputs": [],
   "source": [
    "import pandas as pd\n",
    "from IPython.display import display, HTML\n",
    "\n",
    "targets: List[ThemeTarget] = [\n",
    "    ThemeTarget(0, 'Grenfell'),\n",
    "    ThemeTarget(13, 'Coronavirus students'),\n",
    "    ThemeTarget(20, 'Shoes'),\n",
    "    ThemeTarget(399, 'Suleimani'),\n",
    "    ThemeTarget(599, 'Labour Manifesto'),\n",
    "]\n"
   ]
  },
  {
   "cell_type": "code",
   "execution_count": 10,
   "metadata": {
    "tags": []
   },
   "outputs": [
    {
     "output_type": "stream",
     "name": "stdout",
     "text": "[(0, 13)]\n1.0\n[(2, 13)]\n1.0\n[(0, 13)]\n1.0\n[(0, 13)]\n1.0\n[(72, 13)]\n1.0\n"
    },
    {
     "output_type": "display_data",
     "data": {
      "text/plain": "&lt;IPython.core.display.HTML object&gt;",
      "text/html": "<table border=\"1\" class=\"dataframe\">\n  <thead>\n    <tr style=\"text-align: right;\">\n      <th></th>\n      <th>run_with_all</th>\n      <th>run_with_none</th>\n      <th>run_with_no_phrasing</th>\n      <th>run_with_no_lemmatize</th>\n      <th>run_with_no_postag</th>\n    </tr>\n  </thead>\n  <tbody>\n    <tr>\n      <th>0</th>\n      <td>new coronavirus case fall low level</td>\n      <td>to launch before</td>\n      <td>former ambassador warn</td>\n      <td>Covid wave warns</td>\n      <td>Victoria 's</td>\n    </tr>\n    <tr>\n      <th>1</th>\n      <td>volatile former ambassador warn</td>\n      <td>Boris Johnson 's</td>\n      <td>feel very</td>\n      <td>Tory rebellion</td>\n      <td>over Boris Johnson 's</td>\n    </tr>\n    <tr>\n      <th>2</th>\n      <td>british musical</td>\n      <td>of Covid lockdown is</td>\n      <td>second Covid wave warn</td>\n      <td>says Scotland ex</td>\n      <td>roadmap out of Covid lockdown</td>\n    </tr>\n    <tr>\n      <th>3</th>\n      <td>former ambassador</td>\n      <td>Victoria 's</td>\n      <td>british musical</td>\n      <td>Covid wave</td>\n      <td>ex - chief</td>\n    </tr>\n    <tr>\n      <th>4</th>\n      <td>ambassador warn</td>\n      <td>Facebook 's</td>\n      <td>Hong Kong security</td>\n      <td>ex chief civil servant</td>\n      <td>override Brexit deal</td>\n    </tr>\n    <tr>\n      <th>5</th>\n      <td>volatile former ambassador</td>\n      <td>Johnson 's</td>\n      <td>Kong security law</td>\n      <td>subsidies other</td>\n      <td>Facebook 's</td>\n    </tr>\n    <tr>\n      <th>6</th>\n      <td>tory rebellion</td>\n      <td>launch before US election</td>\n      <td>break international</td>\n      <td>former ambassador</td>\n      <td>, say Scotland</td>\n    </tr>\n    <tr>\n      <th>7</th>\n      <td>death toll exceed</td>\n      <td>says Scotland 's ex</td>\n      <td>ex chief</td>\n      <td>chief civil servant</td>\n      <td>Scotland 's ex -</td>\n    </tr>\n    <tr>\n      <th>8</th>\n      <td>long await oversight board</td>\n      <td>Kong security law</td>\n      <td>break international law</td>\n      <td>child orphaned</td>\n      <td>, say Scotland 's ex -</td>\n    </tr>\n    <tr>\n      <th>9</th>\n      <td>face big</td>\n      <td>British musicals '</td>\n      <td>very volatile</td>\n      <td>US election</td>\n      <td>Scotland 's</td>\n    </tr>\n  </tbody>\n</table>"
     },
     "metadata": {}
    },
    {
     "output_type": "stream",
     "name": "stdout",
     "text": "[(13, 5)]\n1.0\n[(57, 4), (-1, 1)]\n0.21052631578947367\n[(45, 5)]\n0.22727272727272727\n[(29, 4), (30, 1)]\n0.18181818181818182\n[(22, 5)]\n0.20833333333333334\n"
    },
    {
     "output_type": "display_data",
     "data": {
      "text/plain": "&lt;IPython.core.display.HTML object&gt;",
      "text/html": "<table border=\"1\" class=\"dataframe\">\n  <thead>\n    <tr style=\"text-align: right;\">\n      <th></th>\n      <th>run_with_all</th>\n      <th>run_with_none</th>\n      <th>run_with_no_phrasing</th>\n      <th>run_with_no_lemmatize</th>\n      <th>run_with_no_postag</th>\n    </tr>\n  </thead>\n  <tbody>\n    <tr>\n      <th>0</th>\n      <td>file bankruptcy</td>\n      <td>like our future</td>\n      <td>criminal investigation favor</td>\n      <td>officer fired photos showing</td>\n      <td>dealing with Epstein</td>\n    </tr>\n    <tr>\n      <th>1</th>\n      <td>England Wales MPs urge</td>\n      <td>take over</td>\n      <td>face existential threat</td>\n      <td>Covid rules relax</td>\n      <td>Pope turn tide to</td>\n    </tr>\n    <tr>\n      <th>2</th>\n      <td>test positive coronaviru</td>\n      <td>court unseals documents related</td>\n      <td>weekly unemployment claim</td>\n      <td>facing existential threat</td>\n      <td>or lose</td>\n    </tr>\n    <tr>\n      <th>3</th>\n      <td>dfid merger</td>\n      <td>Covid rules relax</td>\n      <td>criminal investigation favor dictator</td>\n      <td>officer fired</td>\n      <td>to dealing with</td>\n    </tr>\n    <tr>\n      <th>4</th>\n      <td>polo shirt</td>\n      <td>files for bankruptcy</td>\n      <td>officer fire photo show</td>\n      <td>unemployment claims rise</td>\n      <td>third test</td>\n    </tr>\n    <tr>\n      <th>5</th>\n      <td>visit ban</td>\n      <td>facing existential</td>\n      <td>MPs urge</td>\n      <td>public sector workers</td>\n      <td>dozen more</td>\n    </tr>\n    <tr>\n      <th>6</th>\n      <td>jogger polo shirt</td>\n      <td>Rishi Sunak warns</td>\n      <td>McClain officer fire</td>\n      <td>Home Office</td>\n      <td>key point from</td>\n    </tr>\n    <tr>\n      <th>7</th>\n      <td>couple test positive coronaviru</td>\n      <td>in England and Wales</td>\n      <td>test positive</td>\n      <td>criminal investigations</td>\n      <td>document relate to dealing</td>\n    </tr>\n    <tr>\n      <th>8</th>\n      <td>Berlin couple test positive coronaviru</td>\n      <td>turns tide to</td>\n      <td>positive coronaviru</td>\n      <td>weekly unemployment claims rise</td>\n      <td>Ollie Pope turn tide</td>\n    </tr>\n    <tr>\n      <th>9</th>\n      <td>reputation dfid</td>\n      <td>Key points</td>\n      <td>unemployment claim</td>\n      <td>Raab says Trevelyan</td>\n      <td>£ 10.9</td>\n    </tr>\n  </tbody>\n</table>"
     },
     "metadata": {}
    },
    {
     "output_type": "stream",
     "name": "stdout",
     "text": "[(20, 9)]\n1.0\n[(41, 9)]\n0.21951219512195122\n[(21, 9)]\n0.6\n[(16, 9)]\n0.6428571428571429\n[(35, 9)]\n0.8181818181818182\n"
    },
    {
     "output_type": "display_data",
     "data": {
      "text/plain": "&lt;IPython.core.display.HTML object&gt;",
      "text/html": "<table border=\"1\" class=\"dataframe\">\n  <thead>\n    <tr style=\"text-align: right;\">\n      <th></th>\n      <th>run_with_all</th>\n      <th>run_with_none</th>\n      <th>run_with_no_phrasing</th>\n      <th>run_with_no_lemmatize</th>\n      <th>run_with_no_postag</th>\n    </tr>\n  </thead>\n  <tbody>\n    <tr>\n      <th>0</th>\n      <td>report record week</td>\n      <td>amid calls</td>\n      <td>Covid lockdown hit</td>\n      <td>boost eat help scheme begins</td>\n      <td>exclusive : Trump 's</td>\n    </tr>\n    <tr>\n      <th>1</th>\n      <td>will consider strike action</td>\n      <td>strike action</td>\n      <td>childcare shortage</td>\n      <td>eat help scheme begins</td>\n      <td>Potter ' : UK bookshop</td>\n    </tr>\n    <tr>\n      <th>2</th>\n      <td>consider strike action</td>\n      <td>seen anything like this</td>\n      <td>boost eat help scheme</td>\n      <td>eat help scheme</td>\n      <td>win control</td>\n    </tr>\n    <tr>\n      <th>3</th>\n      <td>postal chief oust</td>\n      <td>stage one</td>\n      <td>hit back</td>\n      <td>postal chief</td>\n      <td>exclusive :</td>\n    </tr>\n    <tr>\n      <th>4</th>\n      <td>chief oust brother</td>\n      <td>broader response</td>\n      <td>Covid lockdown</td>\n      <td>boost eat help scheme</td>\n      <td>Covid-19 vaccine deal</td>\n    </tr>\n    <tr>\n      <th>5</th>\n      <td>boost eat help</td>\n      <td>of broader response</td>\n      <td>teenager shoot</td>\n      <td>Malawi court</td>\n      <td>to win control of</td>\n    </tr>\n    <tr>\n      <th>6</th>\n      <td>postal chief oust brother</td>\n      <td>faces long road</td>\n      <td>strike action back</td>\n      <td>UK high streets</td>\n      <td>chief oust</td>\n    </tr>\n    <tr>\n      <th>7</th>\n      <td>publisher hit back</td>\n      <td>strike action over</td>\n      <td>civil servant</td>\n      <td>Covid-19 vaccine</td>\n      <td>' : Andy Murray</td>\n    </tr>\n    <tr>\n      <th>8</th>\n      <td>back office plan</td>\n      <td>court files</td>\n      <td>back office plan</td>\n      <td>ban news sharing</td>\n      <td>Boris Johnson 's</td>\n    </tr>\n    <tr>\n      <th>9</th>\n      <td>court file</td>\n      <td>app stores puts pressure</td>\n      <td>president criticism</td>\n      <td>union will consider strike</td>\n      <td>Harry Potter ' :</td>\n    </tr>\n  </tbody>\n</table>"
     },
     "metadata": {}
    },
    {
     "output_type": "stream",
     "name": "stdout",
     "text": "[(399, 9)]\n1.0\n[(197, 6), (609, 2), (-1, 1)]\n0.6\n[(66, 6), (215, 3)]\n0.42857142857142855\n[(96, 8), (-1, 1)]\n0.6153846153846154\n[(227, 5), (213, 1), (521, 1), (-1, 1), (534, 1)]\n0.35714285714285715\n"
    },
    {
     "output_type": "display_data",
     "data": {
      "text/plain": "&lt;IPython.core.display.HTML object&gt;",
      "text/html": "<table border=\"1\" class=\"dataframe\">\n  <thead>\n    <tr style=\"text-align: right;\">\n      <th></th>\n      <th>run_with_all</th>\n      <th>run_with_none</th>\n      <th>run_with_no_phrasing</th>\n      <th>run_with_no_lemmatize</th>\n      <th>run_with_no_postag</th>\n    </tr>\n  </thead>\n  <tbody>\n    <tr>\n      <th>0</th>\n      <td>Depp try stop</td>\n      <td>Biden tells</td>\n      <td>law order</td>\n      <td>tourist quarantines</td>\n      <td>report say</td>\n    </tr>\n    <tr>\n      <th>1</th>\n      <td>rain batter</td>\n      <td>time this year</td>\n      <td>lack access</td>\n      <td>tried stop</td>\n      <td>finger cross</td>\n    </tr>\n    <tr>\n      <th>2</th>\n      <td>free tv licence</td>\n      <td>, court told</td>\n      <td>brasserie cafe</td>\n      <td>concussion scare</td>\n      <td>during raid</td>\n    </tr>\n    <tr>\n      <th>3</th>\n      <td>free tv</td>\n      <td>this year</td>\n      <td>mother sue moj</td>\n      <td>cafes tourist quarantines</td>\n      <td>sue moj</td>\n    </tr>\n    <tr>\n      <th>4</th>\n      <td>australian journalist secrecy</td>\n      <td>lack of access</td>\n      <td>mother sue</td>\n      <td>tried stop Amber</td>\n      <td>West Ham offer</td>\n    </tr>\n    <tr>\n      <th>5</th>\n      <td>try stop Amber</td>\n      <td>this year as</td>\n      <td>France brasserie cafe tourist</td>\n      <td>Fingers crossed France</td>\n      <td>, parliamentary report</td>\n    </tr>\n    <tr>\n      <th>6</th>\n      <td>sue moj</td>\n      <td>just disappear</td>\n      <td>Johnny Depp try stop</td>\n      <td>Depp tried stop Amber</td>\n      <td>home flood</td>\n    </tr>\n    <tr>\n      <th>7</th>\n      <td>try stop Amber Heard</td>\n      <td>lack of access to</td>\n      <td>face mask</td>\n      <td>cafes tourist</td>\n      <td>should be allow ,</td>\n    </tr>\n    <tr>\n      <th>8</th>\n      <td>australian journalist secrecy offence</td>\n      <td>your job</td>\n      <td>just disappear</td>\n      <td>law order president lawless</td>\n      <td>take hundred hostage</td>\n    </tr>\n    <tr>\n      <th>9</th>\n      <td>there yet Alison</td>\n      <td>First Thing</td>\n      <td>home flood</td>\n      <td>Trump law order</td>\n      <td>' try to stop Amber</td>\n    </tr>\n  </tbody>\n</table>"
     },
     "metadata": {}
    },
    {
     "output_type": "stream",
     "name": "stdout",
     "text": "[(599, 3)]\n1.0\n[(526, 3)]\n1.0\n[(379, 3)]\n0.6\n[(465, 3)]\n1.0\n[(677, 3)]\n1.0\n"
    },
    {
     "output_type": "display_data",
     "data": {
      "text/plain": "&lt;IPython.core.display.HTML object&gt;",
      "text/html": "<table border=\"1\" class=\"dataframe\">\n  <thead>\n    <tr style=\"text-align: right;\">\n      <th></th>\n      <th>run_with_all</th>\n      <th>run_with_none</th>\n      <th>run_with_no_phrasing</th>\n      <th>run_with_no_lemmatize</th>\n      <th>run_with_no_postag</th>\n    </tr>\n  </thead>\n  <tbody>\n    <tr>\n      <th>0</th>\n      <td>pollutant diesel</td>\n      <td>at trapping</td>\n      <td>case drop</td>\n      <td>berejiklian urged symptoms tested</td>\n      <td>landfill account for about</td>\n    </tr>\n    <tr>\n      <th>1</th>\n      <td>sydney suburb moorebank bankstown</td>\n      <td>’s atmosphere absorbed</td>\n      <td>level record</td>\n      <td>rob jackson professor stanford</td>\n      <td>be urge anyone who catch</td>\n    </tr>\n    <tr>\n      <th>2</th>\n      <td>norton liverpool lidcombe</td>\n      <td>century when concentrations were</td>\n      <td>stock exchange</td>\n      <td>also saw little change</td>\n      <td>farm and milperra</td>\n    </tr>\n    <tr>\n      <th>3</th>\n      <td>lithium ion</td>\n      <td>landfills , manure and</td>\n      <td>Daniel Andrews</td>\n      <td>oceania largely due</td>\n      <td>and milperra ,</td>\n    </tr>\n    <tr>\n      <th>4</th>\n      <td>sydney suburb moorebank</td>\n      <td>the gas is released</td>\n      <td>high level</td>\n      <td>postponed coronavirus pandemic road freight</td>\n      <td>seafood in</td>\n    </tr>\n    <tr>\n      <th>5</th>\n      <td>rooftop bar grill</td>\n      <td>in its contribution</td>\n      <td>Covid-19 case drop</td>\n      <td>2030s potential investment</td>\n      <td>, of the université de</td>\n    </tr>\n    <tr>\n      <th>6</th>\n      <td>driver also</td>\n      <td>, ranching , agriculture</td>\n      <td>increase military pressure</td>\n      <td>real problem</td>\n      <td>attribute to fracke and other form of</td>\n    </tr>\n    <tr>\n      <th>7</th>\n      <td>bring total cost low energy</td>\n      <td>john lewis .</td>\n      <td>Victoria Daniel</td>\n      <td>related melbourne</td>\n      <td>driver – who be</td>\n    </tr>\n    <tr>\n      <th>8</th>\n      <td>area casey</td>\n      <td>link to lorries</td>\n      <td>second day</td>\n      <td>moorebank bankstown chipping norton</td>\n      <td>sheep , where</td>\n    </tr>\n    <tr>\n      <th>9</th>\n      <td>such tesla</td>\n      <td>to very big</td>\n      <td>North Korea</td>\n      <td>also dropped recently</td>\n      <td>, compare with</td>\n    </tr>\n  </tbody>\n</table>"
     },
     "metadata": {}
    }
   ],
   "source": [
    "for target in targets:\n",
    "\n",
    "    label_id = target.label\n",
    "    mapping = ap_runs[0].labels\n",
    "    mapping_articles_idx = np.where(mapping == label_id)\n",
    "    base_articles = [a.id for a in np.array(articles)[mapping_articles_idx]]\n",
    "\n",
    "    data = {}\n",
    "\n",
    "    for i, run in enumerate(ap_runs):\n",
    "        cluster_match = Counter(run.labels[mapping_articles_idx]).most_common();\n",
    "        main_cluster = cluster_match[0][0]\n",
    "        print(cluster_match)\n",
    "\n",
    "        theme_articles = [a.id for a in np.array(articles)[np.where(run.labels == main_cluster)]]\n",
    "        print()\n",
    "        data[run.name] = [[c.name] + c.theme_words for c in run.clusters if c.id == main_cluster][0]\n",
    "\n",
    "    display(HTML(pd.DataFrame(data).to_html()))"
   ]
  },
  {
   "cell_type": "code",
   "execution_count": null,
   "metadata": {},
   "outputs": [],
   "source": []
  }
 ]
}