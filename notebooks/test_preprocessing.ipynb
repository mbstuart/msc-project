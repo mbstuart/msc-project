{
 "metadata": {
  "language_info": {
   "codemirror_mode": {
    "name": "ipython",
    "version": 3
   },
   "file_extension": ".py",
   "mimetype": "text/x-python",
   "name": "python",
   "nbconvert_exporter": "python",
   "pygments_lexer": "ipython3",
   "version": "3.7.5-final"
  },
  "orig_nbformat": 2,
  "kernelspec": {
   "name": "python_defaultSpec_1598271646199",
   "display_name": "Python 3.7.5 64-bit ('base': conda)"
  }
 },
 "nbformat": 4,
 "nbformat_minor": 2,
 "cells": [
  {
   "cell_type": "code",
   "execution_count": 1,
   "metadata": {},
   "outputs": [],
   "source": [
    "# import services.theme_extractor_api.main\n",
    "from services.theme_extractor.cluster_job import ClusterJob\n",
    "from services.theme_extractor.wv_model_job import WVModelJob\n",
    "\n",
    "from services.theme_extractor.article_preprocess_job import ArticlePreprocessJob\n",
    "\n",
    "\n"
   ]
  },
  {
   "cell_type": "code",
   "execution_count": 2,
   "metadata": {},
   "outputs": [],
   "source": [
    "\n",
    "apj = ArticlePreprocessJob()\n",
    "\n",
    "raw_articles = apj.get_articles_for_latest_load()[:10000]\n"
   ]
  },
  {
   "cell_type": "code",
   "execution_count": 3,
   "metadata": {},
   "outputs": [],
   "source": [
    "processed_articles = apj.preprocess_raw_articles(raw_articles)"
   ]
  },
  {
   "cell_type": "code",
   "execution_count": 6,
   "metadata": {},
   "outputs": [
    {
     "output_type": "execute_result",
     "data": {
      "text/plain": "['scotland_yard',\n 'investigate',\n 'claim',\n 'worker',\n 'outsource',\n 'firm',\n 'caput',\n 'pay',\n 'convict',\n 'deliberately',\n 'fit',\n 'electronic',\n 'ankle',\n 'tag',\n 'loosely',\n 'allow',\n 'slip',\n 'device',\n 'when',\n 'want',\n 'go',\n 'staff',\n 'company',\n 'run',\n 'government',\n 'electronic_monitoring',\n 'service',\n 'allegedly',\n 'pay',\n 'time',\n 'help',\n 'at_least',\n 'offender',\n 'beat',\n 'court',\n 'impose',\n 'curfew',\n 'accord_report',\n 'sun',\n 'metropolitan_police',\n 'say',\n 'investigation',\n 'centre',\n 'london_borough',\n 'newham',\n 'say',\n 'people',\n 'include',\n 'current',\n 'former',\n 'ems',\n 'worker',\n 'arrest',\n 'connection',\n 'offence',\n 'involve',\n 'monitoring',\n 'offender',\n 'accord',\n 'sun',\n 'scheme',\n 'reveal',\n 'offender',\n 'arrest_suspicion',\n 'attempt_murder',\n 'suppose',\n 'home',\n 'curfew',\n 'electronic_tag',\n 'use',\n 'monitor',\n 'condition',\n 'court',\n 'prison',\n 'order',\n 'usually',\n 'securely',\n 'attach',\n 'ankle',\n 'defender',\n 'can',\n 'remove',\n 'then',\n 'send',\n 'location',\n 'datum',\n 'base',\n 'unit',\n 'offender',\n 'home',\n 'ensure',\n 'remain',\n 'present',\n 'curfew',\n 'hour',\n 'leave',\n 'area',\n 'base',\n 'unit',\n 'send',\n 'alert',\n 'monitor',\n 'centre',\n 'police',\n 'make',\n 'first',\n 'arrest',\n 'case',\n 'january',\n 'when',\n 'hold',\n 'old',\n 'former',\n 'ems',\n 'employee',\n 'romford',\n 'essex',\n 'conspiracy_pervert',\n 'course_justice',\n 'theft',\n 'tag',\n 'equipment',\n 'take',\n 'east_london',\n 'police_station',\n 'subsequently',\n 'bail',\n 'return',\n 'police_station',\n 'date',\n 'early',\n 'april',\n 'current',\n 'ems',\n 'worker',\n 'old_man',\n 'old',\n 'woman',\n 'arrest',\n 'january',\n 'conspiracy_pervert',\n 'course_justice',\n 'also',\n 'bail',\n 'return',\n 'date',\n 'early',\n 'april',\n 'further',\n 'people',\n 'none',\n 'employee',\n 'former',\n 'employee',\n 'ems',\n 'arrest',\n 'january',\n 'suspicion',\n 'same',\n 'offence',\n 'capita',\n 'hand',\n 'year',\n 'contract',\n 'electronic',\n 'tagging',\n 'july',\n 'company',\n 'win',\n 'work',\n 'rival',\n 'outsource',\n 'security',\n 'firm',\n 'g4',\n 'serco',\n 'embroil',\n 'overcharge',\n 'allegation',\n 'lead',\n 'repay',\n 'government',\n 'nearly']"
     },
     "metadata": {},
     "execution_count": 6
    }
   ],
   "source": [
    "processed_articles[0].words"
   ]
  },
  {
   "cell_type": "code",
   "execution_count": 7,
   "metadata": {},
   "outputs": [],
   "source": [
    "from gensim.models.phrases import Phrases\n",
    "from typing import List\n",
    "import numpy as np\n",
    "\n",
    "tokenized_texts = apj.preprocessor.preprocessed_docs\n",
    "\n",
    "\n",
    "def get_ngrams(tokenized_texts: List[List[str]], phrases: Phrases):\n",
    "    return np.unique([token for token in sum([phrases[phrases[tokens]] for tokens in tokenized_texts ], []) if '_' in token])\n",
    "\n",
    "def comp_phrasers():\n",
    "    \n",
    "    phrases1 = Phrases(tokenized_texts)\n",
    "\n",
    "    phrases2 = Phrases(tokenized_texts, scoring='npmi', threshold=0.2, min_count=50, progress_per=1000)\n",
    "        \n",
    "    tokens1 = get_ngrams(tokenized_texts, phrases1)\n",
    "    tokens2 = get_ngrams(tokenized_texts, phrases2)\n",
    "\n",
    "    \n",
    "    in1butnot2 = np.setdiff1d(tokens1, tokens2, assume_unique=True)\n",
    "    in2butnot1 = np.setdiff1d(tokens2, tokens1, assume_unique=True)\n",
    "\n",
    "    return tokens1, tokens2, in1butnot2, in2butnot1\n",
    "\n",
    "tokens1, tokens2, unique_to_1, unique_to_2 = comp_phrasers()"
   ]
  },
  {
   "cell_type": "code",
   "execution_count": 11,
   "metadata": {
    "tags": [
     "outputPrepend"
    ]
   },
   "outputs": [
    {
     "output_type": "stream",
     "name": "stdout",
     "text": "el_agent\ntravel_allowance\ntravel_courtesy\ntravel_disruption\ntravel_expense\ntravel_extensively\ntravel_freely\ntravel_mph\ntravel_restriction\ntraveller_muslim\ntravis_county\ntravis_kalanick\ntreason_charge\ntreasurer_joe\ntreasurer_scott\ntreasury_official\ntreasury_secretary\ntreasury_select\ntreat_differently\ntreat_equally\ntreat_fairly\ntreat_injury\ntreat_patient\ntreaty_european\ntreaty_obligation\ntreaty_rome\ntree_fell\ntree_plant\ntremendous_amount\ntremendous_respect\ntrevor_bayliss\ntrevor_noah\ntrevor_timm\ntribal_chairman\ntribal_council\ntribal_leadership\ntribe_fear\ntribe_member\ntribunal_fee\ntribunal_hear\ntribunal_judge\ntribunal_ruling\ntrident_missile\ntrident_nuclear\ntrident_test\ntrigger_backlash\ntrigger_brexit\ntrigger_resignation\ntrigger_widespread\ntrillion_dollar\ntrinity_college\ntrinity_mirror\ntrip_gold\ntriple_credit\ntriple_lock\ntristram_hunt\ntriumph_hurdle\ntrojan_horse\ntrolley_corridor\ntrolley_wait\ntronc_system\ntrophy_hunting\ntropical_low\ntropical_medicine\ntrot_conspiracy\ntroy_deeney\ntroy_grant\ntruck_attack\ntruck_bus\ntruck_drive\ntruck_driver\ntrue_colour\ntrue_friend\ntrue_story\ntruly_global\ntruly_independent\ntrump_administration\ntrump_aide\ntrump_appointee\ntrump_brag\ntrump_cabinet\ntrump_inaugural\ntrump_inaugurate\ntrump_inauguration\ntrump_loyalist\ntrump_nominee\ntrump_organization\ntrump_presidency\ntrump_repeatedly\ntrump_swear\ntrump_tower\ntrump_transition\ntrump_tweet\ntrump_victory\ntrump_vow\ntrussell_trust\ntrust_charity\ntruth_justice\ntruth_power\ntry_avoid\ntry_convince\ntry_escape\ntry_persuade\ntry_pretend\ntry_resolve\ntry_save\ntry_stop\ntry_thwart\ntry_unsuccessfully\ntsai_ing\ntssa_union\ntuanzebe_schneiderlin\ntube_station\ntube_strike\ntuc_general\ntuesday_afternoon\ntuesday_evening\ntuesday_morning\ntuesday_night\ntuition_fee\ntulip_siddiq\ntulsi_gabbard\ntumble_dryer\ntumultuous_year\ntunbridge_well\ntunbridge_wells\ntunisian_man\nturbine_blade\nturbo_charge\nturbulent_time\nturf_moor\nturf_war\nturkey_greece\nturkey_iran\nturkey_russia\nturkish_airline\nturkish_authority\nturkish_border\nturkish_counterpart\nturkish_cypriot\nturkish_official\nturkish_president\nturkish_troop\nturn_around\nturn_attention\nturn_away\nturn_blind\nturn_clock\nturn_tide\nturn_upside\nturn_violent\nturnback_operation\nturnbull_government\nturner_prize\nturning_point\ntusk_president\ntutor_proof\ntv_ad\ntv_adaptation\ntv_advert\ntv_advertising\ntv_broadcaster\ntv_bt\ntv_celebrity\ntv_channel\ntv_chef\ntv_comedy\ntv_debate\ntv_drama\ntv_host\ntv_interview\ntv_licence\ntv_movie\ntv_network\ntv_presenter\ntv_programme\ntv_radio\ntv_rating\ntv_screen\ntv_series\ntv_show\ntv_star\ntv_station\ntweet_congratulation\ntwice_as\ntwice_before\ntwickenham_saturday\ntwin_brother\ntwist_ankle\ntwist_turn\ntwiston_davy\ntwitter_@gdnvoluntary\ntwitter_account\ntwitter_facebook\ntwitter_feed\ntwitter_follower\ntwitter_user\ntype_diabetes\ntyrie_conservative\ntyrone_unsworth\ntöre_knee\nuber_driver\nuber_spokesperson\nucla_medical\nuk_ambassador\nuk_athletics\nuk_economist\nuk_economy\nuk_ireland\nuk_ministers\nuk_nationals\nuk_samaritans\nuk_unwritten\nuk_withdrawal\nukip_dominate\nukip_donor\nukip_interim\nukip_leader\nukip_leadership\nukip_lite\nukip_mep\nukip_nigel\nukraine_syria\nukrainian_president\nulster_unionist\nultimate_goal\nultra_conservative\nultra_low\nultra_orthodox\nultra_supercritical\numbrella_movement\numbrella_organisation\nun_ambassador\nun_american\nun_broker\nun_climate\nun_convention\nun_de\nun_envoy\nun_human\nun_humanitarian\nun_peacekeeping\nun_refugee\nun_resolution\nun_sceaux\nun_secretary\nun_security\nun_special\nunable_afford\nunable_comment\nunable_provide\nunable_reach\nunable_track\nunable_unwilling\nunacceptable_level\nunaccompanied_asylum\nunaccompanied_minor\nunanimous_decision\nunanswered_question\nunarmed_african\nunarmed_black\nunarmed_trident\nunbeaten_premier\nunbeaten_record\nunbeaten_run\nunborn_child\nuncertain_future\nuncertainty_anxiety\nuncertainty_cause\nuncertainty_future\nuncertainty_surround\nuncharted_territory\nunclear_exactly\nunclear_how\nuncomfortable_truth\nunconditional_release\nunconfirmed_report\nunconscious_bias\nunconstitutional_un\nundecided_voter\nundemocratic_mean\nunder_represent\nunderage_girl\nundercover_footage\nundercover_investigation\nundercover_officer\nundercover_reporter\nundergo_scan\nundergo_surgery\nundergo_treatment\nundergraduate_student\nunderground_art\nunderground_station\nunderlie_profit\nunderlie_sale\nunderline_extent\nunderline_importance\nunderline_need\nunderlying_profit\nundermine_ability\nundermine_confidence\nundermine_credibility\nundermine_public\nunderstand_how\nunderstand_importance\nunderstand_why\nunderstanding_how\nunderwater_search\nundisclosed_fee\nundocumented_migrant\nundocumented_worker\nundue_influence\nunemployed_gardener\nunemployed_people\nunemployment_benefit\nunemployment_insurance\nunemployment_rate\nunesco_world\nunexpected_victory\nunexplained_death\nunfair_dismissal\nunfair_unjust\nunfairly_target\nunfairly_treat\nunfettered_access\nunfinished_business\nunforced_error\nunfortunate_accident\nunfurl_banner\nunhealthy_food\nuniformed_officer\nunify_europe\nunilaterally_guarantee\nunilever_product\nunimaginable_suffering\nunintended_consequence\nunintended_pregnancy\nunion_aslef\nunion_recognition\nunion_represent\nunion_unite\nunionist_party\nunique_opportunity\nunique_position\nunit_barwon\nunitary_board\nunite_general\nunite_member\nunite_regional\nunite_union\nunited_arab\nunited_front\nunited_manager\nunited_services\nunited_subs\nunited_technologies\nunited_’s\nuniversal_basic\nuniversity_california\nuniversity_cambridge\nuniversity_campus\nuniversity_college\nuniversity_edinburgh\nuniversity_exeter\nuniversity_graduate\nuniversity_melbourne\nuniversity_michigan\nuniversity_oxford\nuniversity_professor\nuniversity_queensland\nuniversity_sheffield\nuniversity_student\nuniversity_sydney\nuniversity_tuition\nuniversity_virginia\nuniversity_wisconsin\nunlawful_assembly\nunlawful_discrimination\nunlawful_killing\nunlawfully_kill\nunleash_wave\nunmarried_woman\nunpaid_fine\nunpaid_internship\nunpaid_work\nunprecedented_demand\nunprecedented_level\nunprecedented_number\nunprecedented_scale\nunprecedented_step\nunrelated_case\nunsafe_abortion\nunseasonal_weather\nunskilled_labour\nunspecified_number\nunsuccessful_attempt\nunusual_step\nunusually_high\nunusually_warm\nunveil_new\nunveil_plan\nunverified_potentially\nunwanted_sexual\nunwritten_constitution\nup_christmas\nup_date\nup_down\nup_previous\nup_there\nupfront_cost\nupgrade_forecast\nuphill_battle\nuphill_struggle\nuphold_rule\nupper_chamber\nupper_east\nupper_echelon\nupper_hand\nupper_house\nupper_limit\nupside_down\nupstate_new\nupton_park\nupward_pressure\nupward_trend\nurban_area\nurban_centre\nurban_development\nurban_myth\nurban_neighborhood\nurban_outfitter\nurban_population\nurban_sprawl\nurban_stronghold\nurge_reconsider\nurgent_action\nurgent_emergency\nurgent_medical\nurgent_need\nurgent_operation\nurgent_question\nurgent_transfer\nurgently_need\nurgently_transfer\nurine_sample\nus_airstrike\nus_ambassador\nus_army\nus_attorney\nus_canada\nus_capitol\nus_constitution\nus_consulate\nus_counterpart\nus_diplomat\nus_dollar\nus_election\nus_embargo\nus_embassy\nus_geological\nus_intelligence\nus_military\nus_naval\nus_navy\nus_pga\nus_president\nus_presidential\nus_troop\nusa_rugby\nusa_today\nusaid_funding\nuse_bathroom\nuse_biomass\nuse_bot\nuse_cluster\nuse_debit\nuse_facetime\nuse_hashtag\nuse_mobile\nuse_pepper\nuse_phrase\nuse_prerogative\nuse_tool\nuse_torture\nuse_twitter\nuse_word\nuser_datum\nusher_new\nusman_khawaja\nusually_reserve\nutd_sub\nutility_bill\nutmost_importance\nuttar_pradesh\nutterly_disingenuous\nuw_madison\nv&a_museum\nvacancy_leave\nvacancy_rate\nvachi_lagrave\nvacuum_cleaner\nval_thorens\nvalid_visa\nvalley_police\nvalseur_lido\nvaltteri_bottas\nvaluable_contribution\nvaluable_tool\nvalue_banknote\nvalue_dollar\nvalue_money\nvalue_sterling\nvan_aanholt\nvan_badham\nvan_dijk\nvan_dyke\nvan_gaal\nvan_ginkel\nvan_gogh\nvan_hove\nvan_rompuy\nvan_zyl\nvanity_fair\nvariable_tariff\nvarious_aspect\nvarious_reason\nvary_degree\nvary_widely\nvast_amount\nvat_fraud\nvat_receipt\nvehement_opposition\nvehemently_deny\nvehemently_oppose\nvehicle_dmv\nvehicle_road\nvend_machine\nvenezuelan_president\nvengeance_crew\nvent_anger\nventure_capital\nventure_capitalist\nvenue_anfield\nvenue_emirate\nvenue_etihad\nvenue_goodison\nvenue_hawthorn\nvenue_kcom\nvenue_king\nvenue_riverside\nvenue_selhurst\nvenue_st\nvenue_stadium\nvenue_stamford\nvenue_turf\nvenue_vicarage\nvenus_williams\nverbal_abuse\nverbal_attack\nverbal_physical\nverbally_abuse\nverdict_retail\nverlinden_ngoy\nvermont_senator\nversion_event\nvery_ambitious\nvery_anxious\nvery_careful\nvery_carefully\nvery_challenging\nvery_clear\nvery_closely\nvery_comfortable\nvery_competitive\nvery_complicated\nvery_concerned\nvery_confident\nvery_conscious\nvery_dangerous\nvery_different\nvery_difficult\nvery_disappointed\nvery_disappointing\nvery_distressed\nvery_disturbing\nvery_emotional\nvery_excited\nvery_exciting\nvery_expensive\nvery_experienced\nvery_fortunate\nvery_good\nvery_grateful\nvery_happy\nvery_hard\nvery_helpful\nvery_important\nvery_impressed\nvery_interesting\nvery_limited\nvery_little\nvery_lucky\nvery_much\nvery_nice\nvery_pleased\nvery_positive\nvery_proud\nvery_quickly\nvery_rare\nvery_rude\nvery_sad\nvery_scary\nvery_serious\nvery_seriously\nvery_smart\nvery_sorry\nvery_special\nvery_strange\nvery_strong\nvery_strongly\nvery_successful\nvery_supportive\nvery_surprised\nvery_talented\nvery_tight\nvery_useful\nvery_very\nvery_worried\nvery_worrying\nvested_interest\nveterinary_officer\nveto_resolution\nvetting_process\nvi_chase\nviagogo_stubhub\nvic_mark\nvicarage_road\nvice_captain\nvice_chair\nvice_chairman\nvice_chancellor\nvice_presidential\nvice_versa\nvicente_fox\nvicious_circle\nvicious_cycle\nvickers_carroll\nvickie_sheriff\nvictim_domestic\nvictim_family\nvictim_mistaken\nvictim_perpetrator\nvictim_sexual\nvictim_surcharge\nvictim_survivor\nvictim_trafficking\nvictor_anichebe\nvictoria_albert\nvictoria_derbyshire\nvictoria_queensland\nvictoria_station\nvictorian_government\nvictorian_liberal\nvictorian_premier\nvictorian_workhouse\nvictory_crystal\nvictory_hillary\nvictory_speech\nvideo_clip\nvideo_footage\nvideo_game\nvideo_link\nvideo_message\nvideo_post\nvideo_show\nvideo_streaming\nvideo_surveillance\nvideo_upload\nvideo_youtube\nvietnam_war\nvigilante_poll\nvigorously_defend\nvigorously_oppose\nviktor_orbán\nvilla_striker\nvillage_idlib\nvillage_roadshow\nvillas_boas\nvince_cable\nvincent_kompany\nvincent_van\nvinyl_sale\nviola_davis\nviolate_constitution\nviolate_hatch\nviolate_human\nviolate_international\nviolate_law\nviolation_hatch\nviolation_international\nviolence_harassment\nviolence_prevention\nviolence_sexual\nviolence_woman\nviolent_abusive\nviolent_clash\nviolent_confrontation\nviolent_crime\nviolent_disorder\nviolent_extremism\nviolent_extremist\nviolent_incident\nviolent_threat\nviolent_undemocratic\nviolently_attack\nvip_paedophile\nviral_video\nvirat_kohli\nvirgil_van\nvirgin_atlantic\nvirgin_care\nvirgin_mary\nvirgin_money\nvirgin_train\nvirtual_reality\nvisa_application\nvisa_ban\nvisa_holder\nvisa_program\nvisa_waiver\nvishy_anand\nvision_future\nvisit_anfield\nvisit_bahrain\nvisit_cuba\nvisit_washington\nvisitor_number\nvisual_art\nvisual_effect\nvisual_guide\nvital_part\nvital_role\nvitality_stadium\nvitally_important\nvitriolic_abuse\nvocal_critic\nvocal_opponent\nvocal_proponent\nvocal_supporter\nvocational_education\nvoice_concern\nvoice_hear\nvoice_understand\nvolte_face\nvoluntary_euthanasia\nvoluntary_organisation\nvoluntary_redundancy\nvoluntary_sector\nvoluntary_service\nvon_der\nvon_trier\nvote_cast\nvote_confidence\nvote_conscience\nvote_count\nvote_deduct\nvote_favour\nvote_hellawell\nvote_hillary\nvote_illegally\nvote_june\nvote_leave\nvote_overwhelmingly\nvote_recount\nvote_rigging\nvote_tally\nvote_trigger\nvote_triggering\nvote_unanimously\nvoter_intimidation\nvoter_registration\nvoter_reject\nvoter_suppression\nvoter_turnout\nvoting_booth\nvoting_machine\nvoting_rights\nvow_continue\nvow_fight\nvow_push\nvow_renegotiate\nvroum_vroum\nvulnerable_child\nvulnerable_people\nvulnerable_society\nvulnerable_witness\nvunipola_saracens\nvázquez_montalbán\nwa_liberal\nwadi_barada\nwafer_thin\nwaffen_ss\nwafula_strike\nwage_bill\nwage_cap\nwai_ching\nwait_hour\nwait_outside\nwait_see\nwait_trolley\nwaiting_list\nwaiting_time\nwaive_anonymity\nwaive_right\nwake_a.m.\nwake_brexit\nwake_call\nwake_morning\nwakeup_call\nwales_interim\nwales_northern\nwales_premier\nwales_scotland\nwalgate_death\nwalk_around\nwalk_dog\nwalk_moon\nwalk_out\nwalk_street\nwalker_crisp\nwall_border\nwall_mexican\nwall_mexico\nwall_southern\nwallace_gromit\nwalli_reserve\nwalt_disney\nwalter_mazzarri\nwalter_scott\nwang_jianlin\nwang_quanzhang\nwang_yi\nwangan_jagalingou\nwant_see•\nwant_stay\nwapekeka_first\nwar_crime\nwar_episode\nwar_films\nwar_hero\nwar_iraq\nwar_memorial\nwar_persecution\nwar_story\nwar_syria\nwar_tear\nwar_terror\nwar_veteran\nwar_word\nwar_yemen\nwar_zone\nward_prowse\nwarehouse_fire\nwarm_air\nwarm_temperature\nwarm_water\nwarm_weather\nwarm_welcome\nwarm_word\nwarmly_welcome\nwarn_danger\nwarner_bros\nwarning_notice\nwarning_sign\nwarren_gatland\nwarren_massachusetts\nwash_away\nwash_hand\nwash_kitchen\nwash_machine\nwashing_machine\nwashington_fence\nwashington_monument\nwaste_time\nwatch_closely\nwatch_television\nwatch_tv\nwatch_video\nwatchdog_ofste\nwater_allocation\nwater_bottle\nwater_buyback\nwater_cannon\nwater_electricity\nwater_pollution\nwater_quality\nwater_sanitation\nwater_source\nwater_supply\nwatford_sub\nwatmore_knee\nwatson_labour\nway_forward\nway_handle\nway_reroute\nway_seeing\nwayne_bennett\nweak_currency\nweak_growth\nweak_wage\nweakness_pound\nweakness_sterling\nwealth_fund\nwealth_management\nwealthy_businessman\nwealthy_individual\nweapon_mass\nweapon_programme\nwear_armband\nwear_black\nwear_condom\nwear_dark\nwear_hijab\nwear_pink\nwear_poppy\nwear_red\nwear_shirt\nwear_thin\nweather_condition\nweather_event\nweather_forecast\nweather_forecaster\nweather_pattern\nweather_warning\nweb_browsing\nweb_page\nwebsite_breitbart\nwebsite_crash\nwed_freedom\nwednesday_afternoon\nwednesday_autumn\nwednesday_evening\nwednesday_night\nweek_ago\nweekly_podcast\nweekly_shop\nweigh_heavily\nweigh_in\nweigh_kg\nweigh_tonne\nweight_gain\nweight_loss\nweight_watcher\nweiner_estranged\nwelbeck_knee\nwelby_archbishop\nwelcome_announcement\nwelcome_clarity\nwelfare_card\nwelfare_cut\nwelfare_debt\nwelfare_payment\nwelfare_reform\nwelfare_spending\nwelfare_system\nwelford_road\nwell_aware\nwell_educate\nwell_equip\nwell_intentione\nwell_know\nwell_known\nwell_organised\nwell_perspective\nwell_positioned\nwell_wisher\nwellbeing_board\nwellcome_trust\nwells_fargo\nwelsh_assembly\nwelsh_government\nwelsh_national\nwelsh_northern\nwelsh_ovcharov\nwembley_stadium\nwenger_admit\nwenger_side\nwentworth_woodhouse\nwesley_so\nwest_africa\nwest_african\nwest_aleppo\nwest_bank\nwest_belfast\nwest_coast\nwest_cumbria\nwest_cumbrian\nwest_end\nwest_england\nwest_indie\nwest_indies\nwest_london\nwest_lothian\nwest_mersea\nwest_midlands\nwest_papua\nwest_sussex\nwest_virginia\nwest_wing\nwestern_aleppo\nwestern_australia\nwestern_australian\nwestern_democracy\nwestern_diplomat\nwestern_europe\nwestern_motorway\nwestern_province\nwestern_sahara\nwestern_suburb\nwestern_sydney\nwestern_wall\nwestminster_abbey\nwestminster_bubble\nwestminster_council\nwestminster_hall\nwet_train\nwet_weather\nwet_wipe\nwh_smith\nwhale_sanctuary\nwheel_drive\nwheelchair_space\nwheelchair_user\nwhen_ask\nwherever_possible\nwhinge_rama\nwhip_vote\nwhiplash_claim\nwhish_wilson\nwhistleblower_allege\nwhistleblower_chelsea\nwhistleblower_edward\nwhistleblower_protection\nwhit_stillman\nwhite_audi\nwhite_ball\nwhite_hart\nwhite_helmet\nwhite_male\nwhite_man\nwhite_nationalism\nwhite_nationalist\nwhite_nationalists\nwhite_paper\nwhite_poppy\nwhite_spot\nwhite_supremacism\nwhite_supremacy\nwhite_working\nwhitehall_department\nwhitehall_source\nwhitehall_spend\nwhitworth_body\nwhole_bunch\nwhole_life\nwhole_lot\nwhole_range\nwhole_system\nwhole_thing\nwholesale_market\nwholesale_price\nwholly_inadequate\nwholly_own\nwi_fi\nwickham_knee\nwide_array\nwide_audience\nwide_society\nwide_variety\nwidely_accept\nwidely_available\nwidely_believe\nwidely_circulate\nwidely_consider\nwidely_criticise\nwidely_expect\nwidely_recognise\nwidely_regard\nwidely_see\nwidely_share\nwidely_tip\nwiden_gap\nwidespread_anger\nwidespread_concern\nwidespread_condemnation\nwidespread_criticism\nwidespread_voter\nwife_daughter\nwife_kim\nwife_melania\nwife_michelle\nwigan_athletic\nwikileaks_founder\nwikileaks_release\nwilbur_ross\nwild_animal\nwild_bird\nwild_card\nwild_oats\nwilderness_society\nwildlife_conservation\nwilfrie_zaha\nwill_able\nwill_doubtless\nwill_ferrell\nwill_inevitably\nwill_sorely\nwill_tolerate\nwilliam_hague\nwilliam_hill\nwilliam_trevor\nwilliams_scarlets\nwilliams_sister\nwillie_mullin\nwillie_mullins\nwilling_accept\nwilling_pay\nwilly_caballero\nwiltshire_police\nwimbledon_champion\nwimmer_carter\nwin_award\nwin_electoral\nwin_game\nwin_gold\nwin_medal\nwin_nobel\nwin_oscar\nwin_plaudit\nwin_popular\nwin_presidency\nwin_promotion\nwin_race\nwin_seat\nwin_title\nwin_trophy\nwind_blow\nwind_energy\nwind_farm\nwind_power\nwind_rain\nwind_snow\nwind_solar\nwind_turbine\nwindow_dressing\nwindow_january\nwindow_open\nwindsor_castle\nwine_spirit\nwing_keelan\nwinks_onomah\nwinner_enclosure\nwinner_hacksaw\nwinner_loser\nwinner_runner\nwinning_run\nwinning_streak\nwinston_churchill\nwinter_break\nwinter_crisis\nwinter_olympics\nwinter_weather\nwinter_window\nwinter_wonderland\nwintry_weather\nwipe_away\nwipe_tear\nwire_fence\nwisconsin_attorney\nwisconsin_michigan\nwisconsin_pennsylvania\nwishful_thinking\nwitch_hunt\nwitch_hunting\nwithdraw_application\nwithdraw_cash\nwithdraw_paris\nwithdraw_trans\nwithdraw_treaty\nwithdrawal_eu\nwithhold_information\nwitness_describe\nwitness_inauguration\nwitness_statement\nwitness_testimony\nwoefully_inadequate\nwolfgang_schäuble\nwollaston_chair\nwollaston_conservative\nwolverhampton_wanderer\nwoman_color\nwoman_consent\nwoman_equalities\nwoman_equality\nwoman_girl\nwoman_march\nwoman_marche\nwoman_refuge\nwoman_reproductive\nwonder_how\nwonder_why\nwonder_woman\nwonderful_thing\nwood_green\nwood_pellet\nwoodward_waive\nwoody_harrelson\nworcestershire_royal\nword_insult\nword_mouth\nwork_allowance\nwork_clock\nwork_closely\nwork_collaboratively\nwork_constructively\nwork_douchebag\nwork_hard\nwork_pension\nwork_tirelessly\nwork_together\nworker_liberty\nworkers_party\nworkers_union\nworking_age\nworking_condition\nworking_day\nworking_hour\nworking_household\nworking_practice\nworking_relationship\nworkplace_pension\nworld_blitz\nworld_champion\nworld_championship\nworld_championships\nworld_chess\nworld_class\nworld_heavyweight\nworld_heritage\nworld_interactive\nworld_large\nworld_no1\nworld_no117\nworld_no2\nworld_no9\nworld_premiere\nworld_ranking\nworld_renowne\nworld_rugby\nworld_tour\nworld_war\nworrying_trend\nworst_affect\nworst_affected\nworst_hit\nworst_perform\nworth_pregnant\nworthy_farm\nworthy_winner\nwould_constitute\nwould_inappropriate\nwould_inevitably\nwould_like\nwould_necessarily\nwould_normally\nwould_prefer\nwould_probably\nwound_chest\nwrap_paper\nwreak_havoc\nwrestle_ground\nwright_qc\nwrist_injury\nwrite_blog\nwrite_book\nwrite_column\nwrite_essay\nwrite_extensively\nwrite_facebook\nwrite_journal\nwrite_letter\nwrite_op\nwrite_song\nwrite_twitter\nwriter_broadcaster\nwriter_colour\nwriter_director\nwrong_signal\nwrong_thing\nwrongful_conviction\nwrongly_accuse\nwrongly_assume\nwrongly_claim\nwrongly_class\nwrongly_issue\nwto_rule\nwto_tariff\nwwwwww_discipline\nwycombe_wanderer\nwyden_oregon\nwyn_jones\nxenophon_team\nxenophon_tell\nxi_jinpe\nxie_yang\nxinhua_china\ny23_r0\ny29_r0\ny30_r1\ny38_r0\ny44_r0\nyahya_jammeh\nyale_university\nyamatji_woman\nyannick_bolasie\nyaqub_family\nyard_away\nyarl_wood\nyassar_yaqub\nyasser_al\nyau_leung\nyau_wai\nyaya_touré\nyazidi_refugee\nyear_eve\nyear_honours\nyear_old\nyearly_income\nyellow_card\nyellow_fever\nyellow_warning\nyemen_conflict\nyemen_sudan\nyemen_syria\nyemenis_stun\nyet_confirm\nyet_decide\nyet_finalise\nyet_formally\nyohan_cabaye\nyoko_ono\nyork_city\nyork_minster\nyork_university\nyorkshire_humber\nyorkshire_town\nyougov_poll\nyougov_survey\nyoung_adult\nyoung_boy\nyoung_brother\nyoung_carer\nyoung_child\nyoung_daughter\nyoung_gay\nyoung_generation\nyoung_girl\nyoung_lad\nyoung_man\nyoung_offender\nyoung_people\nyoung_person\nyoung_player\nyoung_son\nyoung_talent\nyoung_vic\nyoung_woman\nyouth_affairs\nyouth_allowance\nyouth_coach\nyouth_offender\nyouth_team\nyouth_unemployment\nyoutube_channel\nyoutube_star\nyoutube_video\nyvette_cooper\nyvette_d’ath\nzac_goldsmith\nzafar_ansari\nzaghari_ratcliffe\nzaha_hadid\nzanu_pf\nzeid_ra’ad\nzenit_st\nzernicka_goetz\nziggy_stardust\nzika_virus\nzlatan_ibrahimovic\nzone_syria\nzoolander_bad\nzoological_society\nzorya_luhansk\nzouma_aina\nzsa_zsa\nélysée_palace\nérik_lamela\nłukasz_urban\n’d_love\n’d_never\n’d_probably\n’d_rather\n’s_andrew\n"
    }
   ],
   "source": [
    "print(len(unique_to_2))\n",
    "for token in token:\n",
    "    print(token)"
   ]
  },
  {
   "cell_type": "code",
   "execution_count": 40,
   "metadata": {},
   "outputs": [],
   "source": [
    "import en_core_web_sm\n",
    "nlp = en_core_web_sm.load(disable=['ner', 'parser'])\n",
    "from bs4 import BeautifulSoup\n",
    "\n",
    "def extract_text_from_html(res: str) -> str:\n",
    "    soup = BeautifulSoup(res, features=\"lxml\")\n",
    "    \n",
    "    for f in soup.find_all('figure'):\n",
    "        f.decompose()\n",
    "    \n",
    "    text = soup.get_text().lower();\n",
    "    \n",
    "    return text\n",
    "\n",
    "text = extract_text_from_html(raw_articles[0].body)"
   ]
  }
 ]
}