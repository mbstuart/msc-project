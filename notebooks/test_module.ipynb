{
 "metadata": {
  "language_info": {
   "codemirror_mode": {
    "name": "ipython",
    "version": 3
   },
   "file_extension": ".py",
   "mimetype": "text/x-python",
   "name": "python",
   "nbconvert_exporter": "python",
   "pygments_lexer": "ipython3",
   "version": "3.7.5-final"
  },
  "orig_nbformat": 2,
  "kernelspec": {
   "name": "python_defaultSpec_1600501028029",
   "display_name": "Python 3.7.5 64-bit ('base': conda)"
  }
 },
 "nbformat": 4,
 "nbformat_minor": 2,
 "cells": [
  {
   "cell_type": "code",
   "execution_count": 1,
   "metadata": {},
   "outputs": [],
   "source": [
    "import path\n",
    "with path.Path('..'):\n",
    "    from services.theme_extractor.preprocessing import ArticlePreprocessJob, ArticlePreprocessor \n",
    "\n",
    "    from services.theme_extractor.wv_model import  WVModelBuilder\n",
    "\n",
    "    from services.theme_extractor.clustering import Clusterer\n",
    "\n",
    "    from services.theme_extractor.keyword_extraction import KeywordExtractor\n",
    "\n",
    "    from services.libs.data_model import ProcessedArticle, Theme"
   ]
  },
  {
   "cell_type": "code",
   "execution_count": 2,
   "metadata": {
    "tags": []
   },
   "outputs": [
    {
     "output_type": "stream",
     "name": "stdout",
     "text": "dfd2c33b-bdb8-456d-bdff-b1e1ab014309\n"
    }
   ],
   "source": [
    "\n",
    "apj = ArticlePreprocessJob()\n",
    "\n",
    "load_id = apj.get_latest_article_load().id\n",
    "print(load_id)"
   ]
  },
  {
   "cell_type": "code",
   "execution_count": 35,
   "metadata": {
    "tags": []
   },
   "outputs": [
    {
     "output_type": "execute_result",
     "data": {
      "text/plain": "10000"
     },
     "metadata": {},
     "execution_count": 35
    }
   ],
   "source": [
    "articles = apj.get_articles_for_load(load_id, max_articles=10000)\n",
    "len(articles)"
   ]
  },
  {
   "cell_type": "code",
   "execution_count": 21,
   "metadata": {},
   "outputs": [],
   "source": [
    "from typing import List\n",
    "from gensim.models import Doc2Vec\n",
    "import numpy as np\n",
    "\n",
    "class APRun:\n",
    "\n",
    "    processed_articles: List[ProcessedArticle]\n",
    "\n",
    "    model: Doc2Vec\n",
    "\n",
    "    labels: np.array\n",
    "\n",
    "    clusters: List[Theme]\n",
    "\n",
    "    name: str\n",
    "\n",
    "    def __init__(self, name, steps=['lemmatize', 'postag', 'phrasing'], postags=['NOUN', 'ADJ', 'VERB', 'ADV', 'PROPN']):\n",
    "        self.name = name\n",
    "        self.steps = steps;\n",
    "        self.postags = postags;\n",
    "        # self.processed_articles = processed_articles\n",
    "        # self.model = model\n",
    "        # self.labels = labels\n",
    "        # self.clusters = clusters\n",
    "\n",
    "    "
   ]
  },
  {
   "cell_type": "code",
   "execution_count": 78,
   "metadata": {
    "tags": []
   },
   "outputs": [
    {
     "output_type": "stream",
     "name": "stdout",
     "text": "UMAP(a=None, angular_rp_forest=False, b=None, init='spectral',\n     learning_rate=1.0, local_connectivity=1.0, metric='cosine',\n     metric_kwds=None, min_dist=0.1, n_components=100, n_epochs=None,\n     n_neighbors=15, negative_sample_rate=5, random_state=666,\n     repulsion_strength=1.0, set_op_mix_ratio=1.0, spread=1.0,\n     target_metric='categorical', target_metric_kwds=None,\n     target_n_neighbors=-1, target_weight=0.5, transform_queue_size=4.0,\n     transform_seed=42, verbose=True)\nConstruct fuzzy simplicial set\nSat Sep 19 19:11:32 2020 Finding Nearest Neighbors\nSat Sep 19 19:11:32 2020 Building RP forest with 10 trees\nSat Sep 19 19:11:33 2020 NN descent for 13 iterations\n\t 0  /  13\n\t 1  /  13\n\t 2  /  13\n\t 3  /  13\n\t 4  /  13\nSat Sep 19 19:11:39 2020 Finished Nearest Neighbor Search\nSat Sep 19 19:11:40 2020 Construct embedding\n\tcompleted  0  /  500 epochs\n\tcompleted  50  /  500 epochs\n\tcompleted  100  /  500 epochs\n\tcompleted  150  /  500 epochs\n\tcompleted  200  /  500 epochs\n\tcompleted  250  /  500 epochs\n\tcompleted  300  /  500 epochs\n\tcompleted  350  /  500 epochs\n\tcompleted  400  /  500 epochs\n\tcompleted  450  /  500 epochs\nSat Sep 19 19:12:54 2020 Finished embedding\nExtracting keywords for 807 themes\nUMAP(a=None, angular_rp_forest=False, b=None, init='spectral',\n     learning_rate=1.0, local_connectivity=1.0, metric='cosine',\n     metric_kwds=None, min_dist=0.1, n_components=100, n_epochs=None,\n     n_neighbors=15, negative_sample_rate=5, random_state=666,\n     repulsion_strength=1.0, set_op_mix_ratio=1.0, spread=1.0,\n     target_metric='categorical', target_metric_kwds=None,\n     target_n_neighbors=-1, target_weight=0.5, transform_queue_size=4.0,\n     transform_seed=42, verbose=True)\nConstruct fuzzy simplicial set\nSat Sep 19 19:38:59 2020 Finding Nearest Neighbors\nSat Sep 19 19:38:59 2020 Building RP forest with 10 trees\nSat Sep 19 19:38:59 2020 NN descent for 13 iterations\n\t 0  /  13\n\t 1  /  13\n\t 2  /  13\n\t 3  /  13\n\t 4  /  13\n\t 5  /  13\nSat Sep 19 19:39:05 2020 Finished Nearest Neighbor Search\nSat Sep 19 19:39:06 2020 Construct embedding\n\tcompleted  0  /  500 epochs\n\tcompleted  50  /  500 epochs\n\tcompleted  100  /  500 epochs\n\tcompleted  150  /  500 epochs\n\tcompleted  200  /  500 epochs\n\tcompleted  250  /  500 epochs\n\tcompleted  300  /  500 epochs\n\tcompleted  350  /  500 epochs\n\tcompleted  400  /  500 epochs\n\tcompleted  450  /  500 epochs\nSat Sep 19 19:40:16 2020 Finished embedding\nExtracting keywords for 797 themes\nUMAP(a=None, angular_rp_forest=False, b=None, init='spectral',\n     learning_rate=1.0, local_connectivity=1.0, metric='cosine',\n     metric_kwds=None, min_dist=0.1, n_components=100, n_epochs=None,\n     n_neighbors=15, negative_sample_rate=5, random_state=666,\n     repulsion_strength=1.0, set_op_mix_ratio=1.0, spread=1.0,\n     target_metric='categorical', target_metric_kwds=None,\n     target_n_neighbors=-1, target_weight=0.5, transform_queue_size=4.0,\n     transform_seed=42, verbose=True)\nConstruct fuzzy simplicial set\nSat Sep 19 20:19:44 2020 Finding Nearest Neighbors\nSat Sep 19 20:19:44 2020 Building RP forest with 10 trees\nSat Sep 19 20:19:44 2020 NN descent for 13 iterations\n\t 0  /  13\n\t 1  /  13\n\t 2  /  13\n\t 3  /  13\n\t 4  /  13\n\t 5  /  13\nSat Sep 19 20:19:50 2020 Finished Nearest Neighbor Search\nSat Sep 19 20:19:50 2020 Construct embedding\n\tcompleted  0  /  500 epochs\n\tcompleted  50  /  500 epochs\n\tcompleted  100  /  500 epochs\n\tcompleted  150  /  500 epochs\n\tcompleted  200  /  500 epochs\n\tcompleted  250  /  500 epochs\n\tcompleted  300  /  500 epochs\n\tcompleted  350  /  500 epochs\n\tcompleted  400  /  500 epochs\n\tcompleted  450  /  500 epochs\nSat Sep 19 20:20:57 2020 Finished embedding\nExtracting keywords for 810 themes\nUMAP(a=None, angular_rp_forest=False, b=None, init='spectral',\n     learning_rate=1.0, local_connectivity=1.0, metric='cosine',\n     metric_kwds=None, min_dist=0.1, n_components=100, n_epochs=None,\n     n_neighbors=15, negative_sample_rate=5, random_state=666,\n     repulsion_strength=1.0, set_op_mix_ratio=1.0, spread=1.0,\n     target_metric='categorical', target_metric_kwds=None,\n     target_n_neighbors=-1, target_weight=0.5, transform_queue_size=4.0,\n     transform_seed=42, verbose=True)\nConstruct fuzzy simplicial set\nSat Sep 19 20:47:02 2020 Finding Nearest Neighbors\nSat Sep 19 20:47:02 2020 Building RP forest with 10 trees\nSat Sep 19 20:47:02 2020 NN descent for 13 iterations\n\t 0  /  13\n\t 1  /  13\n\t 2  /  13\n\t 3  /  13\n\t 4  /  13\nSat Sep 19 20:47:07 2020 Finished Nearest Neighbor Search\nSat Sep 19 20:47:08 2020 Construct embedding\n\tcompleted  0  /  500 epochs\n\tcompleted  50  /  500 epochs\n\tcompleted  100  /  500 epochs\n\tcompleted  150  /  500 epochs\n\tcompleted  200  /  500 epochs\n\tcompleted  250  /  500 epochs\n\tcompleted  300  /  500 epochs\n\tcompleted  350  /  500 epochs\n\tcompleted  400  /  500 epochs\n\tcompleted  450  /  500 epochs\nSat Sep 19 20:48:12 2020 Finished embedding\nExtracting keywords for 815 themes\nUMAP(a=None, angular_rp_forest=False, b=None, init='spectral',\n     learning_rate=1.0, local_connectivity=1.0, metric='cosine',\n     metric_kwds=None, min_dist=0.1, n_components=100, n_epochs=None,\n     n_neighbors=15, negative_sample_rate=5, random_state=666,\n     repulsion_strength=1.0, set_op_mix_ratio=1.0, spread=1.0,\n     target_metric='categorical', target_metric_kwds=None,\n     target_n_neighbors=-1, target_weight=0.5, transform_queue_size=4.0,\n     transform_seed=42, verbose=True)\nConstruct fuzzy simplicial set\nSat Sep 19 21:12:20 2020 Finding Nearest Neighbors\nSat Sep 19 21:12:20 2020 Building RP forest with 10 trees\nSat Sep 19 21:12:21 2020 NN descent for 13 iterations\n\t 0  /  13\n\t 1  /  13\n\t 2  /  13\n\t 3  /  13\n\t 4  /  13\nSat Sep 19 21:12:27 2020 Finished Nearest Neighbor Search\nSat Sep 19 21:12:28 2020 Construct embedding\n\tcompleted  0  /  500 epochs\n\tcompleted  50  /  500 epochs\n\tcompleted  100  /  500 epochs\n\tcompleted  150  /  500 epochs\n\tcompleted  200  /  500 epochs\n\tcompleted  250  /  500 epochs\n\tcompleted  300  /  500 epochs\n\tcompleted  350  /  500 epochs\n\tcompleted  400  /  500 epochs\n\tcompleted  450  /  500 epochs\nSat Sep 19 21:13:32 2020 Finished embedding\nExtracting keywords for 833 themes\n"
    }
   ],
   "source": [
    "def run_ap_options(run_options: APRun):\n",
    "\n",
    "    load_id = run_options.name\n",
    "\n",
    "    ap = ArticlePreprocessor(steps=run_options.steps, allowed_postags=run_options.postags)\n",
    "    processed_articles = ap.preprocess_articles(articles, load_id)\n",
    "\n",
    "    model_builder = WVModelBuilder()\n",
    "\n",
    "    model = model_builder.build_wv_model(processed_articles)\n",
    "\n",
    "    labels = Clusterer(model, processed_articles, load_id).create_mapping(min_cluster_size=3, cluster_selection_epsilon=0.1)\n",
    "    \n",
    "    clusters = KeywordExtractor(model).create_themes(load_id, processed_articles, labels)\n",
    "\n",
    "    return processed_articles, model, labels, clusters\n",
    "\n",
    "def calculate_runs():\n",
    "\n",
    "    runs: List[APRun] = [\n",
    "        APRun('run_with_all'),\n",
    "        APRun('run_with_none', steps=[]),\n",
    "        APRun('run_with_no_phrasing', steps=['postag', 'lemmatize']),\n",
    "        APRun('run_with_no_lemmatize', steps=['postag', 'phrasing']),\n",
    "        APRun('run_with_no_postag', steps=['lemmatize', 'phrasing'])\n",
    "\n",
    "    ]\n",
    "\n",
    "    for run in runs:\n",
    "        processed_articles, model, labels, clusters = run_ap_options(run);\n",
    "        run.processed_articles = processed_articles\n",
    "        run.model = model\n",
    "        run.labels = labels\n",
    "        run.clusters = clusters\n",
    "\n",
    "    return runs\n",
    "    \n",
    "ap_runs = calculate_runs()"
   ]
  },
  {
   "cell_type": "code",
   "execution_count": 74,
   "metadata": {
    "tags": []
   },
   "outputs": [
    {
     "output_type": "stream",
     "name": "stdout",
     "text": "0\noff pension\n21\n['fall flat pension row', 'showdown Macron pension', 'Macron pension', 'France brace gilet', 'magic end standoff pension', 'Paris pension row deepen', 'standoff pension', 'cut power pension', 'presidential pension']\n13\nVaporfly shoe\n5\n['revolutionise marathon', 'Nike Vaporfly shoe', 'Nike shoe', 'Nike Vaporflys', 'Nike shoe revolutionise', 'Nike Vaporfly', 'shoe regulation', 'Nike Vaporflys escape ban', 'Vaporflys escape ban running']\n20\nCain emotionally\n5\n['callous insensitive pressure female', 'insensitive pressure female', 'stage protest', 'sorry callous insensitive pressure', 'physical abuse Oregon', 'callous insensitive pressure', 'pressure female', 'insensitive pressure', 'Salazar say Mo']\n499\ndefine extinction rebellion week long\n3\n['xr autumn', 'xr autumn uprise', 'section order xr', 'say xr', 'met embroil grow controversy', 'say xr autumn', 'metropolitan police sadiq extremely concerned', 'xr must now cease protest', 'bring behalf xr']\n599\nbrand Mulberry\n9\n['Deliveroo could lead high price say', 'tycoon rescue Aston', 'fashion tycoon', 'buyout ever say', 'Deliveroo could lead high price', 'buyout ever', 'could lead high price say CMA', 'snap stake luxury', 'Group snap stake luxury']\n"
    }
   ],
   "source": [
    "from collections import Counter\n",
    "\n",
    "counts = Counter(ap_runs[0].labels)\n",
    "\n",
    "for i in [1, 14, 21, 500, 600]:\n",
    "    cluster = ap_runs[0].clusters[i]\n",
    "    print(cluster.id)\n",
    "    print(cluster.name)\n",
    "    print(counts[cluster.id])\n",
    "    print(cluster.theme_words)"
   ]
  },
  {
   "cell_type": "code",
   "execution_count": 50,
   "metadata": {},
   "outputs": [],
   "source": [
    "def jaccard(set1: np.array, set2: np.array):\n",
    "    return len(np.intersect1d(set1, set2)) / len(np.union1d(set1, set2))"
   ]
  },
  {
   "cell_type": "code",
   "execution_count": 61,
   "metadata": {},
   "outputs": [],
   "source": [
    "class ThemeTarget:\n",
    "\n",
    "    def __init__(self, label: int, name: str):\n",
    "        self.label = label\n",
    "        self.name = name"
   ]
  },
  {
   "cell_type": "code",
   "execution_count": 87,
   "metadata": {
    "tags": []
   },
   "outputs": [],
   "source": [
    "import pandas as pd\n",
    "from IPython.display import display, HTML\n",
    "\n",
    "targets: List[ThemeTarget] = [\n",
    "    ThemeTarget(0, 'Grenfell'),\n",
    "    ThemeTarget(13, 'Coronavirus students'),\n",
    "    ThemeTarget(20, 'Shoes'),\n",
    "    ThemeTarget(399, 'Suleimani'),\n",
    "    ThemeTarget(599, 'Labour Manifesto'),\n",
    "]\n",
    "\n"
   ]
  },
  {
   "cell_type": "code",
   "execution_count": 130,
   "metadata": {
    "tags": []
   },
   "outputs": [],
   "source": [
    "def get_jaccards(arts):\n",
    "    jaccard_data = {}\n",
    "    for run in ap_runs:\n",
    "        jaccard_data[run.name] = {}\n",
    "        for other_run in ap_runs:\n",
    "            jaccard_data[run.name][other_run.name] = {}\n",
    "            for cluster in run.clusters:\n",
    "                jaccard_score = 1\n",
    "                if run != other_run:\n",
    "                    arr = Counter(other_run.labels[run.labels == cluster.id]).most_common(2)\n",
    "                    if arr[0][0] != -1:\n",
    "                        lab = arr[0][0]\n",
    "                        jaccard_score = jaccard(arts[run.labels == cluster.id], arts[other_run.labels == lab])\n",
    "                    elif len(arr) > 1:\n",
    "                        lab = arr[1][0]\n",
    "                        jaccard_score = jaccard(arts[run.labels == cluster.id], arts[other_run.labels == lab])\n",
    "                    else:\n",
    "                        jaccard_score = 0\n",
    "\n",
    "                jaccard_data[run.name][other_run.name][cluster.id] = jaccard_score\n",
    "    return jaccard_data\n",
    "\n",
    "                    "
   ]
  },
  {
   "cell_type": "code",
   "execution_count": 131,
   "metadata": {
    "tags": []
   },
   "outputs": [
    {
     "output_type": "stream",
     "name": "stdout",
     "text": "['us-news/2019/oct/29/family-of-harry-dunn-announce-plan-to-sue-trump-administration'\n 'uk-news/2019/oct/27/harry-dunns-twin-brother-appeals-to-anne-sacoolas-to-return-to-uk'\n 'politics/2019/oct/17/no-10-denies-boris-johnson-asked-donald-trump-set-up-anne-sacoolas-meeting'\n 'politics/2019/oct/16/harry-dunn-parents-vow-to-continue-fight-for-justice-after-trump-meeting-sacoolas'\n 'us-news/2019/oct/15/harry-dunn-parents-trump-white-house-anne-sacoolas'\n 'uk-news/2019/oct/14/harry-dunns-parents-say-they-will-only-meet-anne-sacoolas-if-she-returns-to-uk'\n 'uk-news/2019/oct/13/harry-dunn-parents-to-meet-anne-sacoolas-as-immunity-row-continues'\n 'uk-news/2019/oct/11/harry-dunn-family-flying-us-seek-justice-son-diplomats-wife'\n 'uk-news/2019/oct/09/harry-dunn-parents-civil-action-anne-sacoolas'\n 'politics/2019/oct/08/dominic-raab-urges-us-to-reconsider-anne-sacoolas-immunity'\n 'uk-news/2019/oct/07/harry-dunn-crash-pm-to-raise-anne-sacoolas-case-with-white-house'\n 'uk-news/2019/oct/06/all-hope-had-gone-grieving-british-mother-criticises-us-embassy'\n 'uk-news/2019/oct/05/wife-of-us-diplomat-leaves-uk-after-becoming-suspect-in-fatal-road-collision']\n['us-news/2019/oct/29/family-of-harry-dunn-announce-plan-to-sue-trump-administration'\n 'uk-news/2019/oct/27/harry-dunns-twin-brother-appeals-to-anne-sacoolas-to-return-to-uk'\n 'politics/2019/oct/17/no-10-denies-boris-johnson-asked-donald-trump-set-up-anne-sacoolas-meeting'\n 'politics/2019/oct/16/harry-dunn-parents-vow-to-continue-fight-for-justice-after-trump-meeting-sacoolas'\n 'us-news/2019/oct/15/harry-dunn-parents-trump-white-house-anne-sacoolas'\n 'uk-news/2019/oct/14/harry-dunns-parents-say-they-will-only-meet-anne-sacoolas-if-she-returns-to-uk'\n 'uk-news/2019/oct/13/harry-dunn-parents-to-meet-anne-sacoolas-as-immunity-row-continues'\n 'uk-news/2019/oct/11/harry-dunn-family-flying-us-seek-justice-son-diplomats-wife'\n 'uk-news/2019/oct/09/harry-dunn-parents-civil-action-anne-sacoolas'\n 'politics/2019/oct/08/dominic-raab-urges-us-to-reconsider-anne-sacoolas-immunity'\n 'uk-news/2019/oct/07/harry-dunn-crash-pm-to-raise-anne-sacoolas-case-with-white-house'\n 'uk-news/2019/oct/06/all-hope-had-gone-grieving-british-mother-criticises-us-embassy'\n 'uk-news/2019/oct/05/wife-of-us-diplomat-leaves-uk-after-becoming-suspect-in-fatal-road-collision']\n"
    }
   ],
   "source": [
    "jacc_data = get_jaccards(np.array([art.id for art in articles]))\n"
   ]
  },
  {
   "source": [
    "jacc_data['run_with_all']['run_with_none']"
   ],
   "cell_type": "code",
   "metadata": {},
   "execution_count": 124,
   "outputs": [
    {
     "output_type": "execute_result",
     "data": {
      "text/plain": "{-1: 0.0,\n 0: 0.0,\n 1: 0.0,\n 2: 0.0,\n 3: 0.0,\n 4: 0.0,\n 5: 0.0,\n 6: 0.0,\n 7: 0.0,\n 8: 0.0,\n 9: 0.0,\n 10: 0.0,\n 11: 0.0,\n 12: 0.0,\n 13: 0.0,\n 14: 0.0,\n 15: 0.0,\n 16: 0.0,\n 17: 0.0,\n 18: 0.0,\n 19: 0.0,\n 20: 0.0,\n 21: 0.0,\n 22: 0.0,\n 23: 0.0,\n 24: 0.0,\n 25: 0.0,\n 26: 0.0,\n 27: 0.0,\n 28: 0.0,\n 29: 0.0,\n 30: 0.0,\n 31: 0.0,\n 32: 0.0,\n 33: 0.0,\n 34: 0.0,\n 35: 0.0,\n 36: 0.0,\n 37: 0.0,\n 38: 0.0,\n 39: 0.0,\n 40: 0.0,\n 41: 0.0,\n 42: 0.0,\n 43: 0.0,\n 44: 0.0,\n 45: 0.0,\n 46: 0.0,\n 47: 0.0,\n 48: 0.0,\n 49: 0.0,\n 50: 0.0,\n 51: 0.0,\n 52: 0.0,\n 53: 0.0,\n 54: 0.0,\n 55: 0.0,\n 56: 0.0,\n 57: 0.0,\n 58: 0.0,\n 59: 0.0,\n 60: 0.0,\n 61: 0.0,\n 62: 0.0,\n 63: 0.0,\n 64: 0.0,\n 65: 0.0,\n 66: 0.0,\n 67: 0.0,\n 68: 1.0,\n 69: 0.0,\n 70: 0.0,\n 71: 0.0,\n 72: 0.0,\n 73: 0.0,\n 74: 0,\n 75: 0.0,\n 76: 0.0,\n 77: 0.0,\n 78: 0.0,\n 79: 0.0,\n 80: 0.0,\n 81: 0.0,\n 82: 0.0,\n 83: 0.0,\n 84: 0.0,\n 85: 0.0,\n 86: 0.0,\n 87: 0.0,\n 88: 0.0,\n 89: 0.0,\n 90: 0.0,\n 91: 0.0,\n 92: 0.0,\n 93: 0.0,\n 94: 0.0,\n 95: 0.0,\n 96: 0.0,\n 97: 0.0,\n 98: 0.0,\n 99: 0.0,\n 100: 0.0,\n 101: 0.0,\n 102: 0.0,\n 103: 0.0,\n 104: 0.0,\n 105: 0.0,\n 106: 0.0,\n 107: 0.0,\n 108: 0.0,\n 109: 0.0,\n 110: 0.0,\n 111: 0.0,\n 112: 0.0,\n 113: 0.0,\n 114: 0.0,\n 115: 0.0,\n 116: 0.0,\n 117: 0.0,\n 118: 0.0,\n 119: 0.0,\n 120: 0.0,\n 121: 0.0,\n 122: 0.0,\n 123: 0.0,\n 124: 0.0,\n 125: 0.0,\n 126: 0.0,\n 127: 0.0,\n 128: 0.0,\n 129: 0.0,\n 130: 0.0,\n 131: 0.0,\n 132: 0.0,\n 133: 0.0,\n 134: 0.0,\n 135: 0.0,\n 136: 0.0,\n 137: 0.0,\n 138: 0.0,\n 139: 0.0,\n 140: 0.0,\n 141: 0.0,\n 142: 0.0,\n 143: 0.0,\n 144: 0.0,\n 145: 0.0,\n 146: 0.0,\n 147: 0.0,\n 148: 0.0,\n 149: 0.0,\n 150: 0.0,\n 151: 0.0,\n 152: 0.0,\n 153: 0.0,\n 154: 0.0,\n 155: 0.0,\n 156: 0.0,\n 157: 0.0,\n 158: 0.0,\n 159: 0.0,\n 160: 0.0,\n 161: 0.0,\n 162: 0.0,\n 163: 0.0,\n 164: 0.0,\n 165: 0.0,\n 166: 0.0,\n 167: 0.0,\n 168: 0.0,\n 169: 0.0,\n 170: 0.0,\n 171: 0.0,\n 172: 0.0,\n 173: 0.0,\n 174: 0.0,\n 175: 0.0,\n 176: 0.0,\n 177: 0.0,\n 178: 0.0,\n 179: 0.0,\n 180: 0.0,\n 181: 0.0,\n 182: 0.0,\n 183: 0.0,\n 184: 0.0,\n 185: 0.0,\n 186: 0.0,\n 187: 0.0,\n 188: 0.0,\n 189: 0.0,\n 190: 0.0,\n 191: 0.0,\n 192: 0.0,\n 193: 0.0,\n 194: 0.0,\n 195: 0.0,\n 196: 0.0,\n 197: 0.0,\n 198: 0.0,\n 199: 0.0,\n 200: 0.0,\n 201: 0.0,\n 202: 0.0,\n 203: 0.0,\n 204: 0.0,\n 205: 0.0,\n 206: 0.0,\n 207: 0.0,\n 208: 0.0,\n 209: 0.0,\n 210: 0,\n 211: 0.0,\n 212: 0.0,\n 213: 0.0,\n 214: 0.0,\n 215: 0.0,\n 216: 0.0,\n 217: 0.0,\n 218: 0.0,\n 219: 0.0,\n 220: 0.0,\n 221: 0.0,\n 222: 0.0,\n 223: 0.0,\n 224: 0.0,\n 225: 0.0,\n 226: 0.0,\n 227: 0.0,\n 228: 0.0,\n 229: 0.0,\n 230: 0.0,\n 231: 0.0,\n 232: 0.0,\n 233: 0.0,\n 234: 0.0,\n 235: 0.0,\n 236: 0.0,\n 237: 0.0,\n 238: 0.0,\n 239: 0.0,\n 240: 0.0,\n 241: 0.0,\n 242: 0.0,\n 243: 0.0,\n 244: 0.0,\n 245: 0.0,\n 246: 0.0,\n 247: 0.0,\n 248: 0.0,\n 249: 0.0,\n 250: 0.0,\n 251: 0.0,\n 252: 0.0,\n 253: 0,\n 254: 0.0,\n 255: 0.0,\n 256: 0.0,\n 257: 0.0,\n 258: 0.0,\n 259: 0.0,\n 260: 0.0,\n 261: 0.0,\n 262: 0.0,\n 263: 0.0,\n 264: 0.0,\n 265: 0.0,\n 266: 0.0,\n 267: 0.0,\n 268: 0.0,\n 269: 0.0,\n 270: 0.0,\n 271: 0.0,\n 272: 0.0,\n 273: 0,\n 274: 0.0,\n 275: 0.0,\n 276: 0.0,\n 277: 0.0,\n 278: 0.0,\n 279: 0.0,\n 280: 0.0,\n 281: 0.0,\n 282: 0.0,\n 283: 0.0,\n 284: 0.0,\n 285: 0.0,\n 286: 0.0,\n 287: 0.0,\n 288: 0.0,\n 289: 0.0,\n 290: 0.0,\n 291: 0.0,\n 292: 0.0,\n 293: 0.0,\n 294: 0.0,\n 295: 0.0,\n 296: 0,\n 297: 0.0,\n 298: 0.0,\n 299: 0.0,\n 300: 0.0,\n 301: 0.0,\n 302: 0.0,\n 303: 0.0,\n 304: 0.0,\n 305: 0.0,\n 306: 0.0,\n 307: 0.0,\n 308: 0.0,\n 309: 0.0,\n 310: 0.0,\n 311: 0.0,\n 312: 0.0,\n 313: 0.0,\n 314: 0.0,\n 315: 0.0,\n 316: 0.0,\n 317: 0.0,\n 318: 0.0,\n 319: 0.0,\n 320: 0.0,\n 321: 0.0,\n 322: 0.0,\n 323: 0.0,\n 324: 0.0,\n 325: 0.0,\n 326: 0.0,\n 327: 0.0,\n 328: 0.0,\n 329: 0,\n 330: 0.0,\n 331: 0.0,\n 332: 0.0,\n 333: 0.0,\n 334: 0.0,\n 335: 0.0,\n 336: 0.0,\n 337: 0.0,\n 338: 0.0,\n 339: 0.0,\n 340: 0.0,\n 341: 0.0,\n 342: 0.0,\n 343: 0.0,\n 344: 0.0,\n 345: 0.0,\n 346: 0.0,\n 347: 0.0,\n 348: 0.0,\n 349: 0.0,\n 350: 0.0,\n 351: 0.0,\n 352: 0.0,\n 353: 0.0,\n 354: 0.0,\n 355: 0.0,\n 356: 0.0,\n 357: 0.0,\n 358: 0.0,\n 359: 0.0,\n 360: 0.0,\n 361: 0.0,\n 362: 0.0,\n 363: 0.0,\n 364: 0.0,\n 365: 0.0,\n 366: 0.0,\n 367: 0.0,\n 368: 0.0,\n 369: 0.0,\n 370: 0.0,\n 371: 0.0,\n 372: 0.0,\n 373: 0.0,\n 374: 0.0,\n 375: 0.0,\n 376: 0.0,\n 377: 0.0,\n 378: 0.0,\n 379: 0.0,\n 380: 0.0,\n 381: 0,\n 382: 0.0,\n 383: 0.0,\n 384: 0.0,\n 385: 0.0,\n 386: 0.0,\n 387: 0.0,\n 388: 0,\n 389: 0.0,\n 390: 0.0,\n 391: 0.0,\n 392: 0.0,\n 393: 0.0,\n 394: 0.0,\n 395: 0.0,\n 396: 0.0,\n 397: 0.0,\n 398: 0.0,\n 399: 0.0,\n 400: 0.0,\n 401: 0.0,\n 402: 0.0,\n 403: 0.0,\n 404: 0.0,\n 405: 0.0,\n 406: 0.0,\n 407: 0.0,\n 408: 0.0,\n 409: 0.0,\n 410: 0.0,\n 411: 0.0,\n 412: 0.0,\n 413: 0.0,\n 414: 0.0,\n 415: 0.0,\n 416: 0.0,\n 417: 0.0,\n 418: 0.0,\n 419: 0.0,\n 420: 0.0,\n 421: 0.0,\n 422: 0.0,\n 423: 0.0,\n 424: 0,\n 425: 0.0,\n 426: 0.0,\n 427: 0.0,\n 428: 0.0,\n 429: 0.0,\n 430: 0.0,\n 431: 0.0,\n 432: 0.0,\n 433: 0.0,\n 434: 0.0,\n 435: 0.0,\n 436: 0.0,\n 437: 0.0,\n 438: 0.0,\n 439: 0.0,\n 440: 0.0,\n 441: 0.0,\n 442: 0.0,\n 443: 0.0,\n 444: 0.0,\n 445: 0.0,\n 446: 0.0,\n 447: 0.0,\n 448: 0.0,\n 449: 0.0,\n 450: 0.0,\n 451: 0.0,\n 452: 0,\n 453: 0.0,\n 454: 0.0,\n 455: 0.0,\n 456: 0.0,\n 457: 0.0,\n 458: 0.0,\n 459: 0,\n 460: 0.0,\n 461: 0.0,\n 462: 0.0,\n 463: 0.0,\n 464: 0.0,\n 465: 0.0,\n 466: 0.0,\n 467: 0,\n 468: 0.0,\n 469: 0.0,\n 470: 0,\n 471: 0.0,\n 472: 0.0,\n 473: 0.0,\n 474: 0.0,\n 475: 0.0,\n 476: 0.0,\n 477: 0.0,\n 478: 0.0,\n 479: 0.0,\n 480: 0.0,\n 481: 0.0,\n 482: 0.0,\n 483: 0.0,\n 484: 0.0,\n 485: 0.0,\n 486: 0.0,\n 487: 0.0,\n 488: 0.0,\n 489: 0.0,\n 490: 0.0,\n 491: 0.0,\n 492: 0.0,\n 493: 0.0,\n 494: 0.0,\n 495: 0.0,\n 496: 0.0,\n 497: 0.0,\n 498: 0.0,\n 499: 0.0,\n 500: 0.0,\n 501: 0,\n 502: 0.0,\n 503: 0.0,\n 504: 0.0,\n 505: 0.0,\n 506: 0.0,\n 507: 1.0,\n 508: 0.0,\n 509: 0.0,\n 510: 0.0,\n 511: 0.0,\n 512: 0.0,\n 513: 0.0,\n 514: 0,\n 515: 0.0,\n 516: 0.0,\n 517: 0.0,\n 518: 0.0,\n 519: 0.0,\n 520: 0.0,\n 521: 0.0,\n 522: 0.0,\n 523: 0.0,\n 524: 0.0,\n 525: 0.0,\n 526: 0,\n 527: 0.0,\n 528: 0.0,\n 529: 0.0,\n 530: 0,\n 531: 0.0,\n 532: 0.0,\n 533: 0.0,\n 534: 0.0,\n 535: 0.0,\n 536: 0.0,\n 537: 0.0,\n 538: 0.0,\n 539: 0.0,\n 540: 0.0,\n 541: 0.0,\n 542: 0.0,\n 543: 0.0,\n 544: 0.0,\n 545: 0.0,\n 546: 0.0,\n 547: 0.0,\n 548: 0.0,\n 549: 0.0,\n 550: 0.0,\n 551: 0.0,\n 552: 0.0,\n 553: 1.0,\n 554: 0.0,\n 555: 0.0,\n 556: 0.0,\n 557: 0.0,\n 558: 0.0,\n 559: 0.0,\n 560: 0.0,\n 561: 0.0,\n 562: 0.0,\n 563: 0.0,\n 564: 0.0,\n 565: 0.0,\n 566: 0.0,\n 567: 0.0,\n 568: 0.0,\n 569: 0.0,\n 570: 0.0,\n 571: 0.0,\n 572: 0.0,\n 573: 0.0,\n 574: 0.0,\n 575: 0.0,\n 576: 0.0,\n 577: 0.0,\n 578: 0.0,\n 579: 0,\n 580: 0.0,\n 581: 0.0,\n 582: 0.0,\n 583: 0.0,\n 584: 0.0,\n 585: 0.0,\n 586: 0.0,\n 587: 0.0,\n 588: 0.0,\n 589: 0.0,\n 590: 0.0,\n 591: 0.0,\n 592: 0.0,\n 593: 0.0,\n 594: 0.0,\n 595: 0.0,\n 596: 0.0,\n 597: 0.0,\n 598: 0.0,\n 599: 0.0,\n 600: 0.0,\n 601: 0.0,\n 602: 0.0,\n 603: 0.0,\n 604: 0.0,\n 605: 0.0,\n 606: 0.0,\n 607: 0.0,\n 608: 0.0,\n 609: 0.0,\n 610: 0.0,\n 611: 0.0,\n 612: 0.0,\n 613: 0.0,\n 614: 0.0,\n 615: 0.0,\n 616: 0.0,\n 617: 0.0,\n 618: 0.0,\n 619: 0.0,\n 620: 0.0,\n 621: 0.0,\n 622: 0.0,\n 623: 0,\n 624: 0.0,\n 625: 0.0,\n 626: 0.0,\n 627: 0.0,\n 628: 0.0,\n 629: 0.0,\n 630: 0.0,\n 631: 0,\n 632: 0.0,\n 633: 0.0,\n 634: 0.0,\n 635: 0.0,\n 636: 0.0,\n 637: 0.0,\n 638: 0.0,\n 639: 0.0,\n 640: 0.0,\n 641: 0.0,\n 642: 0.0,\n 643: 0.0,\n 644: 0.0,\n 645: 0.0,\n 646: 0.0,\n 647: 0.0,\n 648: 0.0,\n 649: 0.0,\n 650: 0.0,\n 651: 0.0,\n 652: 0.0,\n 653: 0.0,\n 654: 0.0,\n 655: 0.0,\n 656: 0.0,\n 657: 0.0,\n 658: 0.0,\n 659: 0.0,\n 660: 0.0,\n 661: 0.0,\n 662: 0.0,\n 663: 0.0,\n 664: 0.0,\n 665: 0.0,\n 666: 0.0,\n 667: 0.0,\n 668: 0.0,\n 669: 0.0,\n 670: 0.0,\n 671: 0.0,\n 672: 0.0,\n 673: 0.0,\n 674: 0.0,\n 675: 0,\n 676: 0.0,\n 677: 0.0,\n 678: 0.0,\n 679: 0.0,\n 680: 0.0,\n 681: 0.0,\n 682: 0.0,\n 683: 0.0,\n 684: 0.0,\n 685: 0.0,\n 686: 0.0,\n 687: 0.0,\n 688: 0.0,\n 689: 0.0,\n 690: 0.0,\n 691: 0.0,\n 692: 0.0,\n 693: 0.0,\n 694: 0.0,\n 695: 0.0,\n 696: 0.0,\n 697: 0.0,\n 698: 0.0,\n 699: 0.0,\n 700: 0.0,\n 701: 0.0,\n 702: 0.0,\n 703: 0.0,\n 704: 0.0,\n 705: 0.0,\n 706: 0.0,\n 707: 0.0,\n 708: 0.0,\n 709: 0.0,\n 710: 0.0,\n 711: 0.0,\n 712: 0.0,\n 713: 0.0,\n 714: 0.0,\n 715: 0.0,\n 716: 0.0,\n 717: 0.0,\n 718: 0.0,\n 719: 0.0,\n 720: 0.0,\n 721: 0.0,\n 722: 0.0,\n 723: 0.0,\n 724: 0.0,\n 725: 0.0,\n 726: 0.0,\n 727: 0.0,\n 728: 0.0,\n 729: 0.0,\n 730: 0.0,\n 731: 0.0,\n 732: 0.0,\n 733: 0.0,\n 734: 0.0,\n 735: 0.0,\n 736: 0.0,\n 737: 0.0,\n 738: 0.0,\n 739: 0.0,\n 740: 0.0,\n 741: 0.0,\n 742: 0.0,\n 743: 0.0,\n 744: 0.0,\n 745: 0.0,\n 746: 0.0,\n 747: 0.0,\n 748: 0.0,\n 749: 0.0,\n 750: 0.0,\n 751: 0.0,\n 752: 0.0,\n 753: 0.0,\n 754: 0.0,\n 755: 0.0,\n 756: 0.0,\n 757: 0.0,\n 758: 0.0,\n 759: 0.0,\n 760: 0.0,\n 761: 0.0,\n 762: 0.0,\n 763: 0.0,\n 764: 0.0,\n 765: 0.0,\n 766: 0.0,\n 767: 0.0,\n 768: 0.0,\n 769: 0.0,\n 770: 0.0,\n 771: 0.0,\n 772: 0.0,\n 773: 0.0,\n 774: 0.0,\n 775: 1.0,\n 776: 0.0,\n 777: 0.0,\n 778: 0.0,\n 779: 0.0,\n 780: 0.0,\n 781: 1.0,\n 782: 0.0,\n 783: 0.0,\n 784: 0.0,\n 785: 0.0,\n 786: 0.0,\n 787: 0.0,\n 788: 0.0,\n 789: 0.0,\n 790: 0.0,\n 791: 0.0,\n 792: 0.0,\n 793: 0.0,\n 794: 0.0,\n 795: 0.0,\n 796: 0.0,\n 797: 0.0,\n 798: 0.0,\n 799: 0.0,\n 800: 0.0,\n 801: 0.0,\n 802: 0.0,\n 803: 0.0,\n 804: 0.0,\n 805: 0.0}"
     },
     "metadata": {},
     "execution_count": 124
    }
   ]
  },
  {
   "cell_type": "code",
   "execution_count": 101,
   "metadata": {
    "tags": []
   },
   "outputs": [
    {
     "output_type": "stream",
     "name": "stdout",
     "text": "[(0, 13)]\n1.0\n[(2, 13)]\n1.0\n[(0, 13)]\n1.0\n[(0, 13)]\n1.0\n[(72, 13)]\n1.0\n"
    },
    {
     "output_type": "display_data",
     "data": {
      "text/plain": "<IPython.core.display.HTML object>",
      "text/html": "<table border=\"1\" class=\"dataframe\">\n  <thead>\n    <tr style=\"text-align: right;\">\n      <th></th>\n      <th>run_with_all</th>\n      <th>run_with_none</th>\n      <th>run_with_no_phrasing</th>\n      <th>run_with_no_lemmatize</th>\n      <th>run_with_no_postag</th>\n    </tr>\n  </thead>\n  <tbody>\n    <tr>\n      <th>0</th>\n      <td>Sacoolas immunity</td>\n      <td>as immunity</td>\n      <td>Sacoolas immunity row</td>\n      <td>Dunn twin</td>\n      <td>’s family to</td>\n    </tr>\n    <tr>\n      <th>1</th>\n      <td>Harry Dunn twin</td>\n      <td>immunity for envoy</td>\n      <td>immunity row</td>\n      <td>Sacoolas immunity</td>\n      <td>Dunn ’s family</td>\n    </tr>\n    <tr>\n      <th>2</th>\n      <td>family sue US government</td>\n      <td>immunity for</td>\n      <td>lose immunity</td>\n      <td>immunity envoy wife</td>\n      <td>immunity for envoy 's</td>\n    </tr>\n    <tr>\n      <th>3</th>\n      <td>immunity row</td>\n      <td>immunity for envoy 's</td>\n      <td>wife will</td>\n      <td>tearful account find</td>\n      <td>for -PRON- son</td>\n    </tr>\n    <tr>\n      <th>4</th>\n      <td>immunity envoy</td>\n      <td>family to sue</td>\n      <td>immunity envoy wife</td>\n      <td>Harry Dunn twin</td>\n      <td>’s family to travel to US</td>\n    </tr>\n    <tr>\n      <th>5</th>\n      <td>wife leave</td>\n      <td>ask us to waive</td>\n      <td>wife will return</td>\n      <td>son US TV</td>\n      <td>Dunn ’s family to</td>\n    </tr>\n    <tr>\n      <th>6</th>\n      <td>meet Anne Sacoolas immunity</td>\n      <td>as immunity row</td>\n      <td>US seek justice</td>\n      <td>Harry Dunn</td>\n      <td>Dunn 's twin</td>\n    </tr>\n    <tr>\n      <th>7</th>\n      <td>Dunn twin</td>\n      <td>wife in</td>\n      <td>immunity row continue</td>\n      <td>Harry Dunn family</td>\n      <td>immunity for</td>\n    </tr>\n    <tr>\n      <th>8</th>\n      <td>family sue US</td>\n      <td>family to travel to</td>\n      <td>family travel</td>\n      <td>meet Anne Sacoolas immunity</td>\n      <td>immunity for envoy</td>\n    </tr>\n    <tr>\n      <th>9</th>\n      <td>wife will return</td>\n      <td>’s family</td>\n      <td>tearful account find</td>\n      <td>next room</td>\n      <td>as immunity</td>\n    </tr>\n  </tbody>\n</table>"
     },
     "metadata": {}
    },
    {
     "output_type": "stream",
     "name": "stdout",
     "text": "[(13, 5)]\n1.0\n[(57, 4), (-1, 1)]\n0.21052631578947367\n[(45, 5)]\n0.22727272727272727\n[(29, 4), (30, 1)]\n0.18181818181818182\n[(22, 5)]\n0.20833333333333334\n"
    },
    {
     "output_type": "display_data",
     "data": {
      "text/plain": "<IPython.core.display.HTML object>",
      "text/html": "<table border=\"1\" class=\"dataframe\">\n  <thead>\n    <tr style=\"text-align: right;\">\n      <th></th>\n      <th>run_with_all</th>\n      <th>run_with_none</th>\n      <th>run_with_no_phrasing</th>\n      <th>run_with_no_lemmatize</th>\n      <th>run_with_no_postag</th>\n    </tr>\n  </thead>\n  <tbody>\n    <tr>\n      <th>0</th>\n      <td>Bury FC despair club</td>\n      <td>and football regulation</td>\n      <td>Bury CVA</td>\n      <td>Bury CVA</td>\n      <td>takeover go through without full</td>\n    </tr>\n    <tr>\n      <th>1</th>\n      <td>FC despair club expel</td>\n      <td>CVA and football regulation</td>\n      <td>club expel Football</td>\n      <td>FC despair club expel</td>\n      <td>club should bail</td>\n    </tr>\n    <tr>\n      <th>2</th>\n      <td>Distressed Bury</td>\n      <td>as club</td>\n      <td>Bury say</td>\n      <td>Bury season opener MK</td>\n      <td>Bury on the brink of</td>\n    </tr>\n    <tr>\n      <th>3</th>\n      <td>chain drainpipe save club</td>\n      <td>club be</td>\n      <td>Bury Tuesday</td>\n      <td>despair club expel Football</td>\n      <td>Bury takeover go through without</td>\n    </tr>\n    <tr>\n      <th>4</th>\n      <td>club should bail</td>\n      <td>takeover to go through</td>\n      <td>football regulation</td>\n      <td>Distressed Bury</td>\n      <td>takeover go through without</td>\n    </tr>\n    <tr>\n      <th>5</th>\n      <td>despair club</td>\n      <td>and football</td>\n      <td>CVA football regulation</td>\n      <td>Bury Tuesday</td>\n      <td>spotlight over Pastore</td>\n    </tr>\n    <tr>\n      <th>6</th>\n      <td>drainpipe save club</td>\n      <td>’s expulsion</td>\n      <td>Bury FC</td>\n      <td>Bury FC despair club</td>\n      <td>fear over Bury</td>\n    </tr>\n    <tr>\n      <th>7</th>\n      <td>FC despair club</td>\n      <td>EFL over club ’s</td>\n      <td>chain drainpipe save club</td>\n      <td>Bury FC</td>\n      <td>spotlight over</td>\n    </tr>\n    <tr>\n      <th>8</th>\n      <td>despair club expel Football</td>\n      <td>Campbell takeover to</td>\n      <td>MK don</td>\n      <td>Bury fan</td>\n      <td>call for inquiry into CVA and</td>\n    </tr>\n    <tr>\n      <th>9</th>\n      <td>save club</td>\n      <td>Bury CVA prompt insolvency</td>\n      <td>despair club expel Football</td>\n      <td>drainpipe save club</td>\n      <td>block from</td>\n    </tr>\n  </tbody>\n</table>"
     },
     "metadata": {}
    },
    {
     "output_type": "stream",
     "name": "stdout",
     "text": "[(20, 9)]\n1.0\n[(41, 9)]\n0.21951219512195122\n[(21, 9)]\n0.6\n[(16, 9)]\n0.6428571428571429\n[(35, 9)]\n0.8181818181818182\n"
    },
    {
     "output_type": "display_data",
     "data": {
      "text/plain": "<IPython.core.display.HTML object>",
      "text/html": "<table border=\"1\" class=\"dataframe\">\n  <thead>\n    <tr style=\"text-align: right;\">\n      <th></th>\n      <th>run_with_all</th>\n      <th>run_with_none</th>\n      <th>run_with_no_phrasing</th>\n      <th>run_with_no_lemmatize</th>\n      <th>run_with_no_postag</th>\n    </tr>\n  </thead>\n  <tbody>\n    <tr>\n      <th>0</th>\n      <td>dope say</td>\n      <td>athlete to</td>\n      <td>order athlete</td>\n      <td>Salazar dope</td>\n      <td>’s athlete</td>\n    </tr>\n    <tr>\n      <th>1</th>\n      <td>Salazar dope</td>\n      <td>on dope</td>\n      <td>athlete sever link Alberto</td>\n      <td>dope say</td>\n      <td>athlete to</td>\n    </tr>\n    <tr>\n      <th>2</th>\n      <td>Salazar athlete</td>\n      <td>order athlete to sever</td>\n      <td>order athlete sever</td>\n      <td>Salazar athlete</td>\n      <td>athlete to sever</td>\n    </tr>\n    <tr>\n      <th>3</th>\n      <td>athlete sever link Alberto</td>\n      <td>’s athlete</td>\n      <td>athlete sever link</td>\n      <td>Salazar insist never mislead</td>\n      <td>athlete to sever all</td>\n    </tr>\n    <tr>\n      <th>4</th>\n      <td>order athlete</td>\n      <td>on dope ,</td>\n      <td>Sebastian Coe order athlete</td>\n      <td>Mo Farah turn medium</td>\n      <td>on dope</td>\n    </tr>\n    <tr>\n      <th>5</th>\n      <td>Coe order athlete</td>\n      <td>eager to keep streak</td>\n      <td>athlete sever</td>\n      <td>US sprinter</td>\n      <td>Salazar ’s athlete</td>\n    </tr>\n    <tr>\n      <th>6</th>\n      <td>order athlete sever link</td>\n      <td>olympic success after</td>\n      <td>Coe order athlete</td>\n      <td>sprinter Christian</td>\n      <td>Farah turn on</td>\n    </tr>\n    <tr>\n      <th>7</th>\n      <td>order athlete sever</td>\n      <td>reveal extent of</td>\n      <td>sever link Alberto Salazar</td>\n      <td>Sebastian Coe</td>\n      <td>which lead to Salazar</td>\n    </tr>\n    <tr>\n      <th>8</th>\n      <td>athlete sever</td>\n      <td>record - holder</td>\n      <td>Salazar athlete</td>\n      <td>lead Salazar</td>\n      <td>turn on</td>\n    </tr>\n    <tr>\n      <th>9</th>\n      <td>Coe order athlete sever</td>\n      <td>relay silver in</td>\n      <td>dope say</td>\n      <td>Alberto Salazar athlete</td>\n      <td>Alberto Salazar ’s athlete</td>\n    </tr>\n  </tbody>\n</table>"
     },
     "metadata": {}
    },
    {
     "output_type": "stream",
     "name": "stdout",
     "text": "[(399, 9)]\n1.0\n[(197, 6), (609, 2), (-1, 1)]\n0.6\n[(66, 6), (215, 3)]\n0.42857142857142855\n[(96, 8), (-1, 1)]\n0.6153846153846154\n[(227, 5), (213, 1), (521, 1), (-1, 1), (534, 1)]\n0.35714285714285715\n"
    },
    {
     "output_type": "display_data",
     "data": {
      "text/plain": "<IPython.core.display.HTML object>",
      "text/html": "<table border=\"1\" class=\"dataframe\">\n  <thead>\n    <tr style=\"text-align: right;\">\n      <th></th>\n      <th>run_with_all</th>\n      <th>run_with_none</th>\n      <th>run_with_no_phrasing</th>\n      <th>run_with_no_lemmatize</th>\n      <th>run_with_no_postag</th>\n    </tr>\n  </thead>\n  <tbody>\n    <tr>\n      <th>0</th>\n      <td>stimulus RBA</td>\n      <td>of stimulus</td>\n      <td>underspend NDIS</td>\n      <td>stimulus RBA</td>\n      <td>of stimulus</td>\n    </tr>\n    <tr>\n      <th>1</th>\n      <td>hint further cut interest</td>\n      <td>to justify effectiveness of</td>\n      <td>inequality craft good story</td>\n      <td>underspend NDIS</td>\n      <td>to stimulate</td>\n    </tr>\n    <tr>\n      <th>2</th>\n      <td>justify effectiveness interest rate</td>\n      <td>growth in</td>\n      <td>labor turn heat</td>\n      <td>economy heap</td>\n      <td>interest rate to</td>\n    </tr>\n    <tr>\n      <th>3</th>\n      <td>Deloitte say</td>\n      <td>to stimulate</td>\n      <td>budget effectively balance underspend</td>\n      <td>Labor Jim Chalmers say</td>\n      <td>economy be</td>\n    </tr>\n    <tr>\n      <th>4</th>\n      <td>further cut interest</td>\n      <td>economy be</td>\n      <td>stimulus RBA</td>\n      <td>heap stimulus</td>\n      <td>of 0.75</td>\n    </tr>\n    <tr>\n      <th>5</th>\n      <td>effectiveness interest rate</td>\n      <td>justify effectiveness</td>\n      <td>coalition income</td>\n      <td>further cut interest</td>\n      <td>economic shock , report find</td>\n    </tr>\n    <tr>\n      <th>6</th>\n      <td>shock report find</td>\n      <td>wage cap to stimulate</td>\n      <td>remove buffer economic shock</td>\n      <td>Chalmers say</td>\n      <td>wage cap to stimulate</td>\n    </tr>\n    <tr>\n      <th>7</th>\n      <td>warn Deloitte</td>\n      <td>growth in more than</td>\n      <td>tax cut remove buffer</td>\n      <td>hint further cut interest</td>\n      <td>levy ,</td>\n    </tr>\n    <tr>\n      <th>8</th>\n      <td>economic shock</td>\n      <td>to justify effectiveness</td>\n      <td>low boost weak economy</td>\n      <td>Reserve Bank</td>\n      <td>to justify effectiveness of</td>\n    </tr>\n    <tr>\n      <th>9</th>\n      <td>historic low boost</td>\n      <td>hint at</td>\n      <td>reference worsen wealth</td>\n      <td>justify effectiveness interest rate</td>\n      <td>growth in more than a decade</td>\n    </tr>\n  </tbody>\n</table>"
     },
     "metadata": {}
    },
    {
     "output_type": "stream",
     "name": "stdout",
     "text": "[(599, 3)]\n1.0\n[(526, 3)]\n1.0\n[(379, 3)]\n0.6\n[(465, 3)]\n1.0\n[(677, 3)]\n1.0\n"
    },
    {
     "output_type": "display_data",
     "data": {
      "text/plain": "<IPython.core.display.HTML object>",
      "text/html": "<table border=\"1\" class=\"dataframe\">\n  <thead>\n    <tr style=\"text-align: right;\">\n      <th></th>\n      <th>run_with_all</th>\n      <th>run_with_none</th>\n      <th>run_with_no_phrasing</th>\n      <th>run_with_no_lemmatize</th>\n      <th>run_with_no_postag</th>\n    </tr>\n  </thead>\n  <tbody>\n    <tr>\n      <th>0</th>\n      <td>morrison government power forward advertising</td>\n      <td>department reject the audit</td>\n      <td>advertising last financial year</td>\n      <td>advertising due complete month</td>\n      <td>spruike -PRON-</td>\n    </tr>\n    <tr>\n      <th>1</th>\n      <td>advertising framework</td>\n      <td>say the campaign</td>\n      <td>government advertising</td>\n      <td>morrison government power forward advertising</td>\n      <td>spend $ 18.5</td>\n    </tr>\n    <tr>\n      <th>2</th>\n      <td>anao calculate ad</td>\n      <td>on the campaign</td>\n      <td>advertising last financial</td>\n      <td>advertising year average anao</td>\n      <td>-PRON- spend $</td>\n    </tr>\n    <tr>\n      <th>3</th>\n      <td>advertising real measure</td>\n      <td>of the campaign .</td>\n      <td>blitz warning</td>\n      <td>advertising due complete</td>\n      <td>the may election</td>\n    </tr>\n    <tr>\n      <th>4</th>\n      <td>blitz christmas audit find</td>\n      <td>conroy and the</td>\n      <td>taxpayer fund government advertising</td>\n      <td>government advertising due complete</td>\n      <td>blitz spruike</td>\n    </tr>\n    <tr>\n      <th>5</th>\n      <td>forward campaign spruike</td>\n      <td>power forward \" campaign</td>\n      <td>coalition spend</td>\n      <td>blitz spruike</td>\n      <td>conroy and the crossbencher</td>\n    </tr>\n    <tr>\n      <th>6</th>\n      <td>power forward advertising</td>\n      <td>campaign .</td>\n      <td>coalition spend pre election</td>\n      <td>ministership conroy</td>\n      <td>spend $ 14.1</td>\n    </tr>\n    <tr>\n      <th>7</th>\n      <td>blitz spruike</td>\n      <td>campaign \" .</td>\n      <td>fund government advertising</td>\n      <td>blitz Christmas</td>\n      <td>annual report spend $</td>\n    </tr>\n    <tr>\n      <th>8</th>\n      <td>just federal election</td>\n      <td>campaign that the</td>\n      <td>staffer hour</td>\n      <td>campaign prove ineffective audit</td>\n      <td>-PRON- spend $ 18.5</td>\n    </tr>\n    <tr>\n      <th>9</th>\n      <td>effectively administer advertising</td>\n      <td>campaign in</td>\n      <td>taxpayer pay staffer hour</td>\n      <td>blitz warning</td>\n      <td>spend $ 100.1</td>\n    </tr>\n  </tbody>\n</table>"
     },
     "metadata": {}
    }
   ],
   "source": [
    "for target in targets:\n",
    "\n",
    "    label_id = target.label\n",
    "    mapping = ap_runs[0].labels\n",
    "    mapping_articles_idx = np.where(mapping == label_id)\n",
    "    base_articles = [a.id for a in np.array(articles)[mapping_articles_idx]]\n",
    "\n",
    "    data = {}\n",
    "\n",
    "    for i, run in enumerate(ap_runs):\n",
    "        cluster_match = Counter(run.labels[mapping_articles_idx]).most_common();\n",
    "        main_cluster = cluster_match[0][0]\n",
    "        clus = [c for c in run.clusters if c.id == main_cluster][0]\n",
    "        print(cluster_match)\n",
    "\n",
    "        theme_articles = [a.id for a in np.array(articles)[np.where(run.labels == main_cluster)]]\n",
    "        print(jaccard(theme_articles, base_articles))\n",
    "        data[run.name] = [[c.name] + c.theme_words for c in run.clusters if c.id == main_cluster][0]\n",
    "\n",
    "    display(HTML(pd.DataFrame(data).to_html()))"
   ]
  },
  {
   "cell_type": "code",
   "execution_count": null,
   "metadata": {},
   "outputs": [],
   "source": []
  }
 ]
}